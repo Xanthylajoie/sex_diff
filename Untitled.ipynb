{
 "cells": [
  {
   "cell_type": "code",
   "execution_count": 2,
   "id": "84812143-fb54-4b2f-a565-d4a5d1cb7479",
   "metadata": {
    "tags": []
   },
   "outputs": [],
   "source": [
    "%matplotlib inline\n",
    "import glob\n",
    "import numpy as np\n",
    "import random\n",
    "import pandas as pd\n",
    "import seaborn as sns; sns.set()\n",
    "import os\n",
    "from tqdm import tqdm\n",
    "from scipy import stats\n",
    "import matplotlib.pyplot as plt\n",
    "\n",
    "from nilearn import datasets\n",
    "from nilearn.maskers import NiftiLabelsMasker \n",
    "from nilearn import plotting,image, glm\n",
    "from nilearn.glm.second_level import SecondLevelModel\n",
    "from nilearn.glm import threshold_stats_img\n",
    "from nilearn.connectome import ConnectivityMeasure\n",
    "\n",
    "from sklearn.model_selection import train_test_split\n",
    "from sklearn.decomposition import PCA\n",
    "from sklearn.model_selection import cross_val_score\n",
    "from sklearn.pipeline import Pipeline \n",
    "from sklearn.svm import LinearSVC\n",
    "from sklearn.linear_model import LogisticRegression\n",
    "from sklearn.svm import SVC\n",
    "from sklearn.model_selection import permutation_test_score\n",
    "from pathlib import Path\n",
    "\n",
    "from nltools.stats import fdr, norm\n",
    "\n",
    "from sklearn.metrics import confusion_matrix\n",
    "\n",
    "import joblib\n",
    "import numpy as np\n",
    "from pathlib import Path\n",
    "\n",
    "# pour enlever les warnings\n",
    "import warnings\n",
    "warnings.filterwarnings('ignore')"
   ]
  },
  {
   "cell_type": "code",
   "execution_count": null,
   "id": "3ffe1b38-aa7f-49fe-ae61-3f7db5a45ab9",
   "metadata": {},
   "outputs": [],
   "source": []
  },
  {
   "cell_type": "code",
   "execution_count": 8,
   "id": "5ec996d9-4afe-4570-afb8-99f8fb87cc78",
   "metadata": {
    "tags": []
   },
   "outputs": [],
   "source": [
    "# load dataset containing sex and participant id\n",
    "df = pd.read_csv(\"/home/xlajoie/Desktop/CHP_subjects.csv\") \n"
   ]
  },
  {
   "cell_type": "code",
   "execution_count": 9,
   "id": "714dfe6c-0af0-4dcd-b21e-533e5bf2492a",
   "metadata": {
    "tags": []
   },
   "outputs": [],
   "source": [
    "df_behave = pd.read_csv(\"/home/xlajoie/Desktop/Behavioral_unrestricted_xlajoie_3_18_2024_18_30_50.csv\")\n"
   ]
  },
  {
   "cell_type": "code",
   "execution_count": 16,
   "id": "5e3bbb98-5643-4379-8438-345e06ddb698",
   "metadata": {
    "tags": []
   },
   "outputs": [
    {
     "data": {
      "text/plain": [
       "{104820, 140319, 157942, 180937, 757764, 905147}"
      ]
     },
     "execution_count": 16,
     "metadata": {},
     "output_type": "execute_result"
    }
   ],
   "source": [
    "set(df[\"Subject\"]) - set(df_behave[\"Subject\"])"
   ]
  },
  {
   "cell_type": "code",
   "execution_count": null,
   "id": "83bb4415-25fd-476d-bb40-b9d41069973e",
   "metadata": {},
   "outputs": [],
   "source": []
  },
  {
   "cell_type": "code",
   "execution_count": 10,
   "id": "7cf3fdca-05a0-4989-89e8-b9d20e1ba7c3",
   "metadata": {
    "tags": []
   },
   "outputs": [],
   "source": [
    "final = df.merge(df_behave, on=\"Subject\")"
   ]
  },
  {
   "cell_type": "code",
   "execution_count": 12,
   "id": "bbf21fa1-5fce-4270-a9c1-2b39c95d1df2",
   "metadata": {
    "tags": []
   },
   "outputs": [
    {
     "data": {
      "text/plain": [
       "(564, 967)"
      ]
     },
     "execution_count": 12,
     "metadata": {},
     "output_type": "execute_result"
    }
   ],
   "source": [
    "final.shape"
   ]
  },
  {
   "cell_type": "code",
   "execution_count": 15,
   "id": "89e56a06-4d92-4230-97e3-8d5ba16766e0",
   "metadata": {
    "tags": []
   },
   "outputs": [],
   "source": [
    "final.to_csv(\"/home/xlajoie/Desktop/Behavioral_HCP.csv\")"
   ]
  },
  {
   "cell_type": "code",
   "execution_count": null,
   "id": "170e7699-6cc5-4199-80ec-aa98cee753cf",
   "metadata": {},
   "outputs": [],
   "source": []
  }
 ],
 "metadata": {
  "kernelspec": {
   "display_name": "Python 3 (ipykernel)",
   "language": "python",
   "name": "python3"
  },
  "language_info": {
   "codemirror_mode": {
    "name": "ipython",
    "version": 3
   },
   "file_extension": ".py",
   "mimetype": "text/x-python",
   "name": "python",
   "nbconvert_exporter": "python",
   "pygments_lexer": "ipython3",
   "version": "3.8.10"
  }
 },
 "nbformat": 4,
 "nbformat_minor": 5
}
