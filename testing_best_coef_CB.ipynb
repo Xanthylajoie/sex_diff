{
 "cells": [
  {
   "cell_type": "code",
   "execution_count": 26,
   "id": "5afa2239-396f-4533-a1eb-84b8f935d3ed",
   "metadata": {},
   "outputs": [],
   "source": [
    "import numpy as np\n",
    "import random\n",
    "import pandas as pd\n",
    "from tqdm import tqdm\n",
    "from scipy import stats\n",
    "import matplotlib.pyplot as plt\n",
    "from nilearn import datasets\n",
    "from nilearn.maskers import NiftiLabelsMasker \n",
    "import joblib\n",
    "from pathlib import Path"
   ]
  },
  {
   "cell_type": "code",
   "execution_count": 6,
   "id": "4becdf95-0347-435e-a57b-51ac8ded5206",
   "metadata": {},
   "outputs": [],
   "source": [
    "# load dataset containing sex and participant id\n",
    "# df = pd.read_csv(\"/home/xlajoie/Desktop/Final_HCP_database.csv\")\n",
    "df = pd.read_csv(\"/data/brambati/cbedetti/sandbox/xanthy/Final_HCP_database.csv\")"
   ]
  },
  {
   "cell_type": "markdown",
   "id": "0d27defa-77dd-4019-b0b6-fda71cb38a7e",
   "metadata": {},
   "source": [
    "# Classification et trouver seed region qui donnent une meilleure classification"
   ]
  },
  {
   "cell_type": "code",
   "execution_count": 7,
   "id": "605a90d7-29c5-41c3-b05f-4b0a136f573f",
   "metadata": {},
   "outputs": [],
   "source": [
    "def img4d2vector(img_path, masker):\n",
    "    img_masked = masker.fit_transform(img_path)  #fait une moyenne par label \n",
    "    return img_masked.flatten()  #devient 1 vecteur\n",
    "\n",
    "def vector2img4d(vector, masker):\n",
    "    data_2d = vector.reshape(8, -1) # 8\n",
    "    return masker.inverse_transform(data_2d)   #remettre dans espace MNI that we can plot with nilearn"
   ]
  },
  {
   "cell_type": "code",
   "execution_count": 8,
   "id": "015828c5-de81-4415-88f5-e38f22248ec4",
   "metadata": {},
   "outputs": [],
   "source": [
    "def bootstrap_scores(boot_coefs):\n",
    "    \"\"\"\n",
    "    Calculate z scores and p-value based on bootstrap coefficients\n",
    "    \n",
    "    Parameters\n",
    "    ----------\n",
    "    boot_coefs: bootstrap coefficients (array-like)\n",
    "    \n",
    "    Returns\n",
    "    ----------\n",
    "    z_scores: z scores calculated from bootstrap coefficients\n",
    "    pval: p-value calculated from z-scores\n",
    "    pval_bonf: corrected p-values using bonferonni correction\n",
    "    \n",
    "    See also nltools summarized_bootstrap function: https://nltools.org/_modules/nltools/stats.html\n",
    "    \"\"\"\n",
    "    mean_scores = np.mean(boot_coefs, axis=0)\n",
    "    z_scores = np.mean(boot_coefs, axis=0)/np.std(boot_coefs, axis=0)\n",
    "    assert np.sum(np.isnan(z_scores)) == 0\n",
    "    pval = 2 * (1 - stats.norm.cdf(np.abs(z_scores)))\n",
    "    pval_bonf = np.where(pval < (0.05/len(pval)), pval, 0)\n",
    "    #boot_z_fdr = np.where(pval < fdr(pval, q=0.05), pval, 0)\n",
    "    \n",
    "    return mean_scores, z_scores, pval, pval_bonf#, boot_z_fdr"
   ]
  },
  {
   "cell_type": "code",
   "execution_count": 20,
   "id": "0a27181a-8308-4fee-bfd7-6ef8bf87f39d",
   "metadata": {},
   "outputs": [],
   "source": [
    "def run(df_boot, data, seed):\n",
    "    df_bootstrap = pd.DataFrame()\n",
    "    for j in range(0, len(df_boot)):\n",
    "        index = random.randint(0, len(df_boot)-1)\n",
    "        frames = [df_bootstrap, df_boot[index:index+1]]\n",
    "        df_bootstrap = pd.concat(frames)\n",
    "\n",
    "    df_bootstrap = df_bootstrap.drop(df_bootstrap.columns[0], axis=1)\n",
    "\n",
    "\n",
    "    # print(df_bootstrap[\"Gender\"])  # should have the whole list\n",
    "\n",
    "    x_correl = []\n",
    "    nb_subjects = len(df_bootstrap)\n",
    "    subject_label = df_bootstrap[\"subject_label\"][:nb_subjects]\n",
    "\n",
    "    x_correl = []\n",
    "    for sub in tqdm(subject_label):\n",
    "        for seed_name in seed:\n",
    "            x_correl.append(data[sub, seed_name])\n",
    "\n",
    "    x_correl = np.array(x_correl)\n",
    "    x_correl = x_correl.reshape(len(df_boot), len(seed)*148)  # autant de lignes que de sujets, autant de colones (nb region atlas x 8 (seeds))\n",
    "\n",
    "\n",
    "    y_sex = df_bootstrap[\"Gender\"][:nb_subjects]  # maybe list(df[\"Gender\"])\n",
    "\n",
    "    # coef = machine_learning(x_correl, y_sex)\n",
    "\n",
    "    return x_correl"
   ]
  },
  {
   "cell_type": "code",
   "execution_count": 10,
   "id": "f95b3600-0d93-42fe-acf9-3c509035d3e5",
   "metadata": {},
   "outputs": [],
   "source": [
    "def regionsOfInterest(accuracy, pvalue, moyenne, rois, label, x_correl):\n",
    "    pvalue_val = pvalue.reshape(len(rois), 148).T\n",
    "    pvalue_uncorrected = pvalue_val < 0.05\n",
    "\n",
    "    data_pval_uncorrected = pd.DataFrame(pvalue_uncorrected, columns=rois)\n",
    "    data_pval = pd.DataFrame(pvalue_val, columns=rois)\n",
    "\n",
    "    pval_corrected = np.multiply(pvalue_val, pvalue_uncorrected)\n",
    "    \n",
    "    X_std = x_correl.std()\n",
    "    weighted_coef = moyenne * X_std\n",
    "    label_name = list(label['name']) * len(rois)\n",
    "    seed_name = np.repeat(rois, 148)\n",
    "    \n",
    "    weighted_tab = pd.DataFrame(weighted_coef, columns=[\"coefficient\"])\n",
    "    weighted_tab['seed'] = seed_name\n",
    "    weighted_tab['labels'] = label_name\n",
    "    \n",
    "    # print the 10 best seed anf their labels\n",
    "    print(weighted_tab.sort_values(by=['coefficient'], ascending=False).head(10))\n",
    "    \n",
    "    \n",
    "    # weighted_coef[weighted_coef<0.054609] = 0 # maybe changed the 0.054609 for a variable\n",
    "        \n",
    "    \n",
    "    # printing the accuracy and its interval of confidance\n",
    "    acc_test = np.asarray(accuracy)\n",
    "    moy = np.mean(acc_test)\n",
    "    se = np.std(acc_test)\n",
    "    lower = moy - (1.96 * se)\n",
    "    upper = moy + (1.96 * se)\n",
    "    \n",
    "    print(\"The mean accuracy : \" + str(moy))\n",
    "    print(\"The standard deviation of the accuracy : \" + str(se))\n",
    "    print(\"The lower boundry of the confidance interval of the accuracy : \" + str(lower))\n",
    "    print(\"The upper boundry of the confidance interval of the accuracy : \" + str(upper))\n",
    "    \n",
    "    return weighted_tab"
   ]
  },
  {
   "cell_type": "markdown",
   "id": "cbf6ec08-0c62-4885-9f4b-ef6ca433d152",
   "metadata": {},
   "source": [
    "## Single run with all seed"
   ]
  },
  {
   "cell_type": "code",
   "execution_count": 12,
   "id": "44219a09-3542-4531-a361-fdb84d5b3b46",
   "metadata": {},
   "outputs": [
    {
     "name": "stderr",
     "output_type": "stream",
     "text": [
      "/data/brambati/local/venvs/lingualab_workstation/lib/python3.8/site-packages/nilearn/datasets/atlas.py:288: UserWarning: `legacy_format` will default to `False` in release 0.11. Dataset fetchers will then return pandas dataframes by default instead of recarrays.\n",
      "  warnings.warn(_LEGACY_FORMAT_MSG)\n",
      "100%|█████████████████████████████████████████████████████████████████████████████████| 570/570 [01:29<00:00,  6.35it/s]\n",
      "100%|█████████████████████████████████████████████████████████████████████████████████| 570/570 [01:28<00:00,  6.42it/s]\n",
      "100%|█████████████████████████████████████████████████████████████████████████████████| 570/570 [01:27<00:00,  6.48it/s]\n",
      "100%|█████████████████████████████████████████████████████████████████████████████████| 570/570 [01:28<00:00,  6.47it/s]\n",
      "100%|█████████████████████████████████████████████████████████████████████████████████| 570/570 [01:27<00:00,  6.48it/s]\n",
      "100%|█████████████████████████████████████████████████████████████████████████████████| 570/570 [01:28<00:00,  6.48it/s]\n",
      "100%|█████████████████████████████████████████████████████████████████████████████████| 570/570 [01:27<00:00,  6.48it/s]\n",
      "100%|█████████████████████████████████████████████████████████████████████████████████| 570/570 [01:28<00:00,  6.44it/s]\n"
     ]
    }
   ],
   "source": [
    "SEEDS = [\"opIFG_L\", \"planumtemp_L\", \"aMTG_L\", \"pITG_L\", \"opIFG_R\", \"planumtemp_R\", \"aMTG_R\", \"pITG_R\"]\n",
    "img_tpl = \"/data/brambati/dataset/HCP/derivatives/seed-to-voxel-nilearn/results_3D/{seed_name}/sub-{participant_id}/sub-{participant_id}_seed-{seed_name}_mean-4_voxelcorrelations.nii.gz\"\n",
    "atlas_dest = datasets.fetch_atlas_destrieux_2009()\n",
    "masker = NiftiLabelsMasker(atlas_dest.maps)\n",
    "\n",
    "data = {}\n",
    "for seed in SEEDS:\n",
    "    for sub in tqdm(df[\"subject_label\"]):\n",
    "        img_path = img_tpl.format(seed_name=seed, participant_id=sub)\n",
    "        data[(sub, seed)] = img4d2vector(img_path, masker)"
   ]
  },
  {
   "cell_type": "code",
   "execution_count": 15,
   "id": "010cea6c-4ceb-4904-a2a6-2f514763563a",
   "metadata": {},
   "outputs": [
    {
     "name": "stderr",
     "output_type": "stream",
     "text": [
      "100%|█████████████████████████████████████████████████████████████████████████████| 570/570 [00:00<00:00, 125196.55it/s]\n"
     ]
    }
   ],
   "source": [
    "x_correl = []\n",
    "for sub in tqdm(df[\"subject_label\"]):\n",
    "    line_temp = []\n",
    "    for seed in SEEDS:\n",
    "        line_temp.append(data[(sub, seed)])\n",
    "    x_correl.append(np.concatenate(line_temp))\n",
    "x_correl = np.array(x_correl)"
   ]
  },
  {
   "cell_type": "code",
   "execution_count": 18,
   "id": "ff44f773-954d-4bee-991d-d1afec01c30e",
   "metadata": {},
   "outputs": [
    {
     "data": {
      "text/plain": [
       "(570, 1184)"
      ]
     },
     "execution_count": 18,
     "metadata": {},
     "output_type": "execute_result"
    }
   ],
   "source": [
    "x_correl.shape"
   ]
  },
  {
   "cell_type": "markdown",
   "id": "630f4fa5-6cb4-4df7-855b-6d7f471fe8c7",
   "metadata": {
    "tags": []
   },
   "source": [
    "## Bootstrap result all seed, single seed, all left seed and all right seed"
   ]
  },
  {
   "cell_type": "code",
   "execution_count": 23,
   "id": "6d56bcc2-0996-4309-bca4-2b27fd330205",
   "metadata": {},
   "outputs": [
    {
     "name": "stderr",
     "output_type": "stream",
     "text": [
      "/data/brambati/local/venvs/lingualab_workstation/lib/python3.8/site-packages/sklearn/base.py:318: UserWarning: Trying to unpickle estimator LinearSVC from version 1.2.1 when using version 1.2.2. This might lead to breaking code or invalid results. Use at your own risk. For more info please refer to:\n",
      "https://scikit-learn.org/stable/model_persistence.html#security-maintainability-limitations\n",
      "  warnings.warn(\n"
     ]
    },
    {
     "data": {
      "text/plain": [
       "(1184,)"
      ]
     },
     "execution_count": 23,
     "metadata": {},
     "output_type": "execute_result"
    }
   ],
   "source": [
    "study_dir = Path('/data/brambati/dataset/HCP/derivatives/training_sex_diff/')\n",
    "results_path_all_seed = study_dir / \"results\" / \"LinearSVC\" / \"models_iteration-10000_seeds-all_mean_LinearSVC.pkl\"\n",
    "# results_path_aMTG_L = study_dir / \"results\" / \"LinearSVC\" / \"models_iteration-10000_seeds-aMTG_L_mean_LinearSVC.pkl\"\n",
    "# results_path_aMTG_R = study_dir / \"results\" / \"LinearSVC\" / \"models_iteration-10000_seeds-aMTG_R_mean_LinearSVC.pkl\"\n",
    "# results_path_opIFG_L = study_dir / \"results\" / \"LinearSVC\" / \"models_iteration-10000_seeds-opIFG_L_mean_LinearSVC.pkl\"\n",
    "# results_path_opIFG_R = study_dir / \"results\" / \"LinearSVC\" / \"models_iteration-10000_seeds-opIFG_R_mean_LinearSVC.pkl\"\n",
    "# results_path_pITG_L = study_dir / \"results\" / \"LinearSVC\" / \"models_iteration-10000_seeds-pITG_L_mean_LinearSVC.pkl\"\n",
    "# results_path_pITG_R = study_dir / \"results\" / \"LinearSVC\" / \"models_iteration-10000_seeds-pITG_R_mean_LinearSVC.pkl\"\n",
    "# results_path_planumtemp_L = study_dir / \"results\" / \"LinearSVC\" / \"models_iteration-10000_seeds-planumtemp_L_mean_LinearSVC.pkl\"\n",
    "# results_path_planumtemp_R = study_dir / \"results\" / \"LinearSVC\" / \"models_iteration-10000_seeds-planumtemp_R_mean_LinearSVC.pkl\"\n",
    "# results_path_all_left = study_dir / \"results\" / \"LinearSVC\" / \"models_iteration-10000_seeds-left_mean_LinearSVC.pkl\"\n",
    "# results_path_all_right = study_dir / \"results\" / \"LinearSVC\" / \"models_iteration-10000_seeds-right_mean_LinearSVC.pkl\"\n",
    "\n",
    "\n",
    "results = joblib.load(results_path_all_seed)\n",
    "\n",
    "coefs = []\n",
    "for result in results:\n",
    "    coefs.append(result[\"model\"].coef_[0])\n",
    "\n",
    "coefs = np.array(coefs)\n",
    "\n",
    "data_results = pd.DataFrame.from_dict(results)\n",
    "moyenne, scoresZ, pvalue, pvalue_bonf = bootstrap_scores(coefs)\n",
    "moyenne.shape"
   ]
  },
  {
   "cell_type": "code",
   "execution_count": 24,
   "id": "6458ea78-d509-4293-a63f-d3efdd6b459b",
   "metadata": {},
   "outputs": [],
   "source": [
    "atlas_dest = datasets.fetch_atlas_destrieux_2009(legacy_format=False)\n",
    "label = atlas_dest[\"labels\"].drop([0,42,117]) # correction for the destrieux atlas labels\n",
    "label = label.reset_index()"
   ]
  },
  {
   "cell_type": "markdown",
   "id": "67cb5805-0633-4c21-b332-cbb67fd87b25",
   "metadata": {},
   "source": [
    "## Best regions for all seeds"
   ]
  },
  {
   "cell_type": "code",
   "execution_count": 28,
   "id": "a25432cd-96ab-4a4f-b928-1e0243a573ea",
   "metadata": {},
   "outputs": [
    {
     "name": "stderr",
     "output_type": "stream",
     "text": [
      "100%|█████████████████████████████████████████████████████████████████████████████| 570/570 [00:00<00:00, 594714.75it/s]"
     ]
    },
    {
     "name": "stdout",
     "output_type": "stream",
     "text": [
      "      coefficient          seed                      labels\n",
      "349      0.066980        aMTG_L               L S_front_sup\n",
      "394      0.066608        aMTG_L      R G_pariet_inf-Angular\n",
      "530      0.061722        pITG_L       R G_front_inf-Orbital\n",
      "300      0.060541        aMTG_L  L G_and_S_transv_frontopol\n",
      "794      0.059514  planumtemp_R      L S_interm_prim-Jensen\n",
      "1056     0.059044        pITG_R     L G_oc-temp_lat-fusifor\n",
      "453      0.057656        pITG_L     L G_cingul-Post-ventral\n",
      "41       0.056609       opIFG_L            L Pole_occipital\n",
      "783      0.055820  planumtemp_R               L S_calcarine\n",
      "941      0.051546        aMTG_R               L S_front_sup\n",
      "The mean accuracy : 0.916316814159292\n",
      "The standard deviation of the accuracy : 0.027862591976324208\n",
      "The lower boundry of the confidance interval of the accuracy : 0.8617061338856966\n",
      "The upper boundry of the confidance interval of the accuracy : 0.9709274944328874\n"
     ]
    },
    {
     "name": "stderr",
     "output_type": "stream",
     "text": [
      "\n"
     ]
    }
   ],
   "source": [
    "rois = [\"opIFG_L\", \"planumtemp_L\", \"aMTG_L\", \"pITG_L\", \"opIFG_R\", \"planumtemp_R\", \"aMTG_R\", \"pITG_R\"] # modified to rois of interest\n",
    "run_1 = run(df, data, [\"opIFG_L\", \"planumtemp_L\", \"aMTG_L\", \"pITG_L\", \"opIFG_R\", \"planumtemp_R\", \"aMTG_R\", \"pITG_R\"])\n",
    "ROIs = regionsOfInterest(data_results[\"acc_test\"], pvalue, moyenne, rois, label, run_1)"
   ]
  },
  {
   "cell_type": "code",
   "execution_count": 36,
   "id": "c72637f5-70ad-40ba-b971-a50abf392054",
   "metadata": {},
   "outputs": [
    {
     "name": "stderr",
     "output_type": "stream",
     "text": [
      "100%|█████████████████████████████████████████████████████████████████████████████| 570/570 [00:00<00:00, 568820.67it/s]"
     ]
    },
    {
     "name": "stdout",
     "output_type": "stream",
     "text": [
      "      coefficient          seed                      labels\n",
      "349      0.066486        aMTG_L               L S_front_sup\n",
      "394      0.066117        aMTG_L      R G_pariet_inf-Angular\n",
      "530      0.061267        pITG_L       R G_front_inf-Orbital\n",
      "300      0.060094        aMTG_L  L G_and_S_transv_frontopol\n",
      "794      0.059075  planumtemp_R      L S_interm_prim-Jensen\n",
      "1056     0.058609        pITG_R     L G_oc-temp_lat-fusifor\n",
      "453      0.057231        pITG_L     L G_cingul-Post-ventral\n",
      "41       0.056191       opIFG_L            L Pole_occipital\n",
      "783      0.055409  planumtemp_R               L S_calcarine\n",
      "941      0.051165        aMTG_R               L S_front_sup\n",
      "The mean accuracy : 0.916316814159292\n",
      "The standard deviation of the accuracy : 0.027862591976324208\n",
      "The lower boundry of the confidance interval of the accuracy : 0.8617061338856966\n",
      "The upper boundry of the confidance interval of the accuracy : 0.9709274944328874\n"
     ]
    },
    {
     "name": "stderr",
     "output_type": "stream",
     "text": [
      "\n"
     ]
    }
   ],
   "source": [
    "rois = [\"opIFG_L\", \"planumtemp_L\", \"aMTG_L\", \"pITG_L\", \"opIFG_R\", \"planumtemp_R\", \"aMTG_R\", \"pITG_R\"] # modified to rois of interest\n",
    "run_1 = run(df, data, [\"opIFG_L\", \"planumtemp_L\", \"aMTG_L\", \"pITG_L\", \"opIFG_R\", \"planumtemp_R\", \"aMTG_R\", \"pITG_R\"])\n",
    "ROIs = regionsOfInterest(data_results[\"acc_test\"], pvalue, moyenne, rois, label, run_1)"
   ]
  },
  {
   "cell_type": "code",
   "execution_count": 32,
   "id": "b2e7deaa-d183-492c-9927-c17affd769ef",
   "metadata": {},
   "outputs": [
    {
     "name": "stdout",
     "output_type": "stream",
     "text": [
      "      coefficient          seed                      labels\n",
      "349      0.066622        aMTG_L               L S_front_sup\n",
      "394      0.066252        aMTG_L      R G_pariet_inf-Angular\n",
      "530      0.061393        pITG_L       R G_front_inf-Orbital\n",
      "300      0.060217        aMTG_L  L G_and_S_transv_frontopol\n",
      "794      0.059196  planumtemp_R      L S_interm_prim-Jensen\n",
      "1056     0.058729        pITG_R     L G_oc-temp_lat-fusifor\n",
      "453      0.057348        pITG_L     L G_cingul-Post-ventral\n",
      "41       0.056306       opIFG_L            L Pole_occipital\n",
      "783      0.055522  planumtemp_R               L S_calcarine\n",
      "941      0.051270        aMTG_R               L S_front_sup\n",
      "The mean accuracy : 0.916316814159292\n",
      "The standard deviation of the accuracy : 0.027862591976324208\n",
      "The lower boundry of the confidance interval of the accuracy : 0.8617061338856966\n",
      "The upper boundry of the confidance interval of the accuracy : 0.9709274944328874\n"
     ]
    }
   ],
   "source": [
    "rois = [\"opIFG_L\", \"planumtemp_L\", \"aMTG_L\", \"pITG_L\", \"opIFG_R\", \"planumtemp_R\", \"aMTG_R\", \"pITG_R\"] # modified to rois of interest\n",
    "ROIs = regionsOfInterest(data_results[\"acc_test\"], pvalue, moyenne, rois, label, x_correl)"
   ]
  },
  {
   "cell_type": "code",
   "execution_count": null,
   "id": "ce7676f0-55fd-49ca-8229-b78168cb277c",
   "metadata": {},
   "outputs": [],
   "source": []
  },
  {
   "cell_type": "code",
   "execution_count": 37,
   "id": "bbbcdb9b-8070-46ef-85b1-528f9eadbcee",
   "metadata": {},
   "outputs": [
    {
     "name": "stderr",
     "output_type": "stream",
     "text": [
      "/data/brambati/local/venvs/lingualab_workstation/lib/python3.8/site-packages/nilearn/datasets/atlas.py:288: UserWarning: `legacy_format` will default to `False` in release 0.11. Dataset fetchers will then return pandas dataframes by default instead of recarrays.\n",
      "  warnings.warn(_LEGACY_FORMAT_MSG)\n",
      "100%|█████████████████████████████████████████████████████████████████████████████████| 570/570 [03:44<00:00,  2.54it/s]\n",
      "100%|█████████████████████████████████████████████████████████████████████████████████| 570/570 [03:43<00:00,  2.55it/s]\n",
      "100%|█████████████████████████████████████████████████████████████████████████████████| 570/570 [03:42<00:00,  2.56it/s]\n",
      "100%|█████████████████████████████████████████████████████████████████████████████████| 570/570 [03:42<00:00,  2.57it/s]\n",
      "100%|█████████████████████████████████████████████████████████████████████████████████| 570/570 [03:42<00:00,  2.56it/s]\n",
      "100%|█████████████████████████████████████████████████████████████████████████████████| 570/570 [03:43<00:00,  2.56it/s]\n",
      "100%|█████████████████████████████████████████████████████████████████████████████████| 570/570 [03:41<00:00,  2.57it/s]\n",
      "100%|█████████████████████████████████████████████████████████████████████████████████| 570/570 [03:43<00:00,  2.56it/s]\n"
     ]
    }
   ],
   "source": [
    "SEEDS = [\"opIFG_L\", \"planumtemp_L\", \"aMTG_L\", \"pITG_L\", \"opIFG_R\", \"planumtemp_R\", \"aMTG_R\", \"pITG_R\"]\n",
    "img_tpl = \"/data/brambati/dataset/HCP/derivatives/seed-to-voxel-nilearn/results_3D/{seed_name}/sub-{participant_id}/sub-{participant_id}_seed-{seed_name}_concatenate_voxelcorrelations.nii.gz\"\n",
    "atlas_dest = datasets.fetch_atlas_destrieux_2009()\n",
    "masker = NiftiLabelsMasker(atlas_dest.maps)\n",
    "\n",
    "data_concat = {}\n",
    "\n",
    "for seed in SEEDS:\n",
    "    for sub in tqdm(df[\"subject_label\"]):\n",
    "        img_path = img_tpl.format(seed_name=seed, participant_id=sub)\n",
    "        data_concat[(sub, seed)] = img4d2vector(img_path, masker)"
   ]
  },
  {
   "cell_type": "code",
   "execution_count": 40,
   "id": "45c4dae2-463c-400a-8daa-5e4f94cbb88d",
   "metadata": {},
   "outputs": [
    {
     "name": "stderr",
     "output_type": "stream",
     "text": [
      "/data/brambati/local/venvs/lingualab_workstation/lib/python3.8/site-packages/sklearn/base.py:318: UserWarning: Trying to unpickle estimator LinearSVC from version 1.1.2 when using version 1.2.2. This might lead to breaking code or invalid results. Use at your own risk. For more info please refer to:\n",
      "https://scikit-learn.org/stable/model_persistence.html#security-maintainability-limitations\n",
      "  warnings.warn(\n"
     ]
    },
    {
     "data": {
      "text/plain": [
       "(1184,)"
      ]
     },
     "execution_count": 40,
     "metadata": {},
     "output_type": "execute_result"
    }
   ],
   "source": [
    "study_dir = Path('/data/brambati/dataset/HCP/derivatives/training_sex_diff/')\n",
    "results_path_all_seed = study_dir / \"results\" / \"LinearSVC\" / \"models_iteration-10000_seeds-all_concatenate_LinearSVC.pkl\"\n",
    "\n",
    "\n",
    "\n",
    "\n",
    "results_concat = joblib.load(results_path_all_seed)\n",
    "\n",
    "coefs_concat = []\n",
    "for result in results_concat:\n",
    "    coefs_concat.append(result[\"model\"].coef_[0])\n",
    "\n",
    "coefs_concat = np.array(coefs_concat)\n",
    "\n",
    "data_results_concat = pd.DataFrame.from_dict(results_concat)\n",
    "moyenne_concat, scoresZ_concat, pvalue_concat, pvalue_bonf_concat = bootstrap_scores(coefs_concat)\n",
    "moyenne_concat.shape"
   ]
  },
  {
   "cell_type": "code",
   "execution_count": 41,
   "id": "603ee276-7581-43c4-b0e0-f09e923141df",
   "metadata": {},
   "outputs": [
    {
     "name": "stderr",
     "output_type": "stream",
     "text": [
      "100%|█████████████████████████████████████████████████████████████████████████████| 570/570 [00:00<00:00, 126743.00it/s]\n"
     ]
    }
   ],
   "source": [
    "x_correl_concat = []\n",
    "for sub in tqdm(df[\"subject_label\"]):\n",
    "    line_temp = []\n",
    "    for seed in SEEDS:\n",
    "        line_temp.append(data_concat[(sub, seed)])\n",
    "    x_correl_concat.append(np.concatenate(line_temp))\n",
    "x_correl_concat = np.array(x_correl_concat)"
   ]
  },
  {
   "cell_type": "code",
   "execution_count": 42,
   "id": "4343b1d5-12f6-43d2-90d8-553ae6420baf",
   "metadata": {},
   "outputs": [
    {
     "data": {
      "text/plain": [
       "(570, 1184)"
      ]
     },
     "execution_count": 42,
     "metadata": {},
     "output_type": "execute_result"
    }
   ],
   "source": [
    "x_correl_concat.shape"
   ]
  },
  {
   "cell_type": "code",
   "execution_count": 44,
   "id": "39d5a6d1-c8ba-444b-a4b9-79fa765077fb",
   "metadata": {},
   "outputs": [
    {
     "name": "stderr",
     "output_type": "stream",
     "text": [
      "100%|█████████████████████████████████████████████████████████████████████████████| 570/570 [00:00<00:00, 534724.51it/s]"
     ]
    },
    {
     "name": "stdout",
     "output_type": "stream",
     "text": [
      "      coefficient          seed                    labels\n",
      "959      0.076520        aMTG_R          L S_temporal_inf\n",
      "453      0.075518        pITG_L   L G_cingul-Post-ventral\n",
      "866      0.069383  planumtemp_R          R S_front_middle\n",
      "598      0.068284       opIFG_R  L G_and_S_cingul-Mid-Ant\n",
      "1014     0.068131        aMTG_R          R S_front_middle\n",
      "900      0.060643        aMTG_R     L G_front_inf-Orbital\n",
      "1012     0.060388        aMTG_R    R S_collat_transv_post\n",
      "1002     0.057794        aMTG_R            R Lat_Fis-post\n",
      "923      0.055611        aMTG_R   L G_temp_sup-Plan_tempo\n",
      "983      0.055345        aMTG_R   R G_oc-temp_med-Lingual\n",
      "The mean accuracy : 0.8756353982300885\n",
      "The standard deviation of the accuracy : 0.032657349067499834\n",
      "The lower boundry of the confidance interval of the accuracy : 0.8116269940577888\n",
      "The upper boundry of the confidance interval of the accuracy : 0.9396438024023882\n"
     ]
    },
    {
     "name": "stderr",
     "output_type": "stream",
     "text": [
      "\n"
     ]
    }
   ],
   "source": [
    "rois = [\"opIFG_L\", \"planumtemp_L\", \"aMTG_L\", \"pITG_L\", \"opIFG_R\", \"planumtemp_R\", \"aMTG_R\", \"pITG_R\"] # modified to rois of interest\n",
    "run_1 = run(df, data_concat, [\"opIFG_L\", \"planumtemp_L\", \"aMTG_L\", \"pITG_L\", \"opIFG_R\", \"planumtemp_R\", \"aMTG_R\", \"pITG_R\"])\n",
    "ROIs = regionsOfInterest(data_results_concat[\"acc_test\"], pvalue_concat, moyenne_concat, rois, label, run_1)\n",
    "# bestRegion(ROIs)"
   ]
  },
  {
   "cell_type": "code",
   "execution_count": 45,
   "id": "4d9982b5-9ccf-4fcb-a1ca-ee36e77439e8",
   "metadata": {},
   "outputs": [
    {
     "name": "stderr",
     "output_type": "stream",
     "text": [
      "100%|█████████████████████████████████████████████████████████████████████████████| 570/570 [00:00<00:00, 518489.11it/s]"
     ]
    },
    {
     "name": "stdout",
     "output_type": "stream",
     "text": [
      "      coefficient          seed                    labels\n",
      "959      0.076314        aMTG_R          L S_temporal_inf\n",
      "453      0.075315        pITG_L   L G_cingul-Post-ventral\n",
      "866      0.069196  planumtemp_R          R S_front_middle\n",
      "598      0.068101       opIFG_R  L G_and_S_cingul-Mid-Ant\n",
      "1014     0.067948        aMTG_R          R S_front_middle\n",
      "900      0.060479        aMTG_R     L G_front_inf-Orbital\n",
      "1012     0.060226        aMTG_R    R S_collat_transv_post\n",
      "1002     0.057638        aMTG_R            R Lat_Fis-post\n",
      "923      0.055462        aMTG_R   L G_temp_sup-Plan_tempo\n",
      "983      0.055196        aMTG_R   R G_oc-temp_med-Lingual\n",
      "The mean accuracy : 0.8756353982300885\n",
      "The standard deviation of the accuracy : 0.032657349067499834\n",
      "The lower boundry of the confidance interval of the accuracy : 0.8116269940577888\n",
      "The upper boundry of the confidance interval of the accuracy : 0.9396438024023882\n"
     ]
    },
    {
     "name": "stderr",
     "output_type": "stream",
     "text": [
      "\n"
     ]
    }
   ],
   "source": [
    "rois = [\"opIFG_L\", \"planumtemp_L\", \"aMTG_L\", \"pITG_L\", \"opIFG_R\", \"planumtemp_R\", \"aMTG_R\", \"pITG_R\"] # modified to rois of interest\n",
    "run_1 = run(df, data_concat, [\"opIFG_L\", \"planumtemp_L\", \"aMTG_L\", \"pITG_L\", \"opIFG_R\", \"planumtemp_R\", \"aMTG_R\", \"pITG_R\"])\n",
    "ROIs = regionsOfInterest(data_results_concat[\"acc_test\"], pvalue_concat, moyenne_concat, rois, label, run_1)\n",
    "# bestRegion(ROIs)"
   ]
  },
  {
   "cell_type": "code",
   "execution_count": 49,
   "id": "e585c9bd-9b5e-4231-8454-43bb9c2cb531",
   "metadata": {},
   "outputs": [
    {
     "name": "stdout",
     "output_type": "stream",
     "text": [
      "      coefficient          seed                    labels\n",
      "959      0.076649        aMTG_R          L S_temporal_inf\n",
      "453      0.075645        pITG_L   L G_cingul-Post-ventral\n",
      "866      0.069499  planumtemp_R          R S_front_middle\n",
      "598      0.068399       opIFG_R  L G_and_S_cingul-Mid-Ant\n",
      "1014     0.068246        aMTG_R          R S_front_middle\n",
      "900      0.060744        aMTG_R     L G_front_inf-Orbital\n",
      "1012     0.060490        aMTG_R    R S_collat_transv_post\n",
      "1002     0.057891        aMTG_R            R Lat_Fis-post\n",
      "923      0.055705        aMTG_R   L G_temp_sup-Plan_tempo\n",
      "983      0.055438        aMTG_R   R G_oc-temp_med-Lingual\n",
      "The mean accuracy : 0.8756353982300885\n",
      "The standard deviation of the accuracy : 0.032657349067499834\n",
      "The lower boundry of the confidance interval of the accuracy : 0.8116269940577888\n",
      "The upper boundry of the confidance interval of the accuracy : 0.9396438024023882\n"
     ]
    }
   ],
   "source": [
    "rois = [\"opIFG_L\", \"planumtemp_L\", \"aMTG_L\", \"pITG_L\", \"opIFG_R\", \"planumtemp_R\", \"aMTG_R\", \"pITG_R\"] # modified to rois of interest\n",
    "ROIs = regionsOfInterest(data_results_concat[\"acc_test\"], pvalue_concat, moyenne_concat, rois, label, x_correl_concat)"
   ]
  },
  {
   "cell_type": "code",
   "execution_count": null,
   "id": "fe2a6a8e-cc1f-44a1-a53f-20d5e759653e",
   "metadata": {},
   "outputs": [],
   "source": []
  },
  {
   "cell_type": "code",
   "execution_count": null,
   "id": "82ca9eac-cd62-446e-a0af-3ff1f77804c3",
   "metadata": {},
   "outputs": [],
   "source": []
  },
  {
   "cell_type": "code",
   "execution_count": null,
   "id": "e5cb9743-d1f5-4def-9bad-935fdeb29563",
   "metadata": {},
   "outputs": [],
   "source": []
  },
  {
   "cell_type": "code",
   "execution_count": null,
   "id": "6de24849-63cb-4b4d-8b20-7fad4c0205d4",
   "metadata": {},
   "outputs": [],
   "source": []
  }
 ],
 "metadata": {
  "kernelspec": {
   "display_name": "Python 3 (ipykernel)",
   "language": "python",
   "name": "python3"
  },
  "language_info": {
   "codemirror_mode": {
    "name": "ipython",
    "version": 3
   },
   "file_extension": ".py",
   "mimetype": "text/x-python",
   "name": "python",
   "nbconvert_exporter": "python",
   "pygments_lexer": "ipython3",
   "version": "3.8.10"
  }
 },
 "nbformat": 4,
 "nbformat_minor": 5
}
