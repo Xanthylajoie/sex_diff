{
 "cells": [
  {
   "cell_type": "markdown",
   "id": "0391603d-ecb6-4b48-8abe-e1f31fdf4d8a",
   "metadata": {},
   "source": [
    "### Final Code for Sex differences project "
   ]
  },
  {
   "cell_type": "markdown",
   "id": "e0a3bc3f-578e-4823-8bcb-b6562df3654c",
   "metadata": {},
   "source": [
    "### 1. Prep data set "
   ]
  },
  {
   "cell_type": "code",
   "execution_count": 216,
   "id": "60546325-3489-4f06-953e-e9b44393e43a",
   "metadata": {},
   "outputs": [],
   "source": [
    "%matplotlib inline\n",
    "import glob\n",
    "import numpy as np\n",
    "from tqdm import tqdm\n",
    "import matplotlib.pyplot as plt \n",
    "from sklearn.model_selection import train_test_split \n",
    "\n",
    "import pandas as pd\n",
    "import seaborn as sns; sns.set()\n",
    "import os\n",
    "from sklearn.decomposition import PCA\n",
    "from sklearn.model_selection import cross_val_score\n",
    "from sklearn.pipeline import Pipeline \n",
    "from sklearn.svm import LinearSVC\n",
    "from pathlib import Path\n",
    "\n",
    "\n",
    "\n",
    "from sklearn.metrics import confusion_matrix\n"
   ]
  },
  {
   "cell_type": "code",
   "execution_count": 217,
   "id": "e7640181-56a5-4479-a426-2054cc3ee05e",
   "metadata": {},
   "outputs": [],
   "source": [
    "#import data set\n",
    "df = pd.read_csv(\"/home/xlajoie/Desktop/unrestricted_original.csv\")"
   ]
  },
  {
   "cell_type": "code",
   "execution_count": 218,
   "id": "5887c29c-86a6-4652-8e4b-473dfd667126",
   "metadata": {},
   "outputs": [],
   "source": [
    "# Filter left-handers (>=50 handedness) \n",
    "df = df[df[\"Handedness\"] >= 50].reset_index()\n"
   ]
  },
  {
   "cell_type": "code",
   "execution_count": 219,
   "id": "cd0443da-be89-45aa-b31b-157e529db809",
   "metadata": {},
   "outputs": [
    {
     "data": {
      "text/html": [
       "<div>\n",
       "<style scoped>\n",
       "    .dataframe tbody tr th:only-of-type {\n",
       "        vertical-align: middle;\n",
       "    }\n",
       "\n",
       "    .dataframe tbody tr th {\n",
       "        vertical-align: top;\n",
       "    }\n",
       "\n",
       "    .dataframe thead th {\n",
       "        text-align: right;\n",
       "    }\n",
       "</style>\n",
       "<table border=\"1\" class=\"dataframe\">\n",
       "  <thead>\n",
       "    <tr style=\"text-align: right;\">\n",
       "      <th></th>\n",
       "      <th>index</th>\n",
       "      <th>subject_label</th>\n",
       "      <th>Release</th>\n",
       "      <th>Acquisition</th>\n",
       "      <th>Gender</th>\n",
       "      <th>Age_in_Yrs</th>\n",
       "      <th>Race</th>\n",
       "      <th>Ethnicity</th>\n",
       "      <th>Handedness</th>\n",
       "      <th>Education</th>\n",
       "      <th>...</th>\n",
       "      <th>Noise_Comp</th>\n",
       "      <th>Odor_Unadj</th>\n",
       "      <th>Odor_AgeAdj</th>\n",
       "      <th>PainIntens_RawScore</th>\n",
       "      <th>PainInterf_Tscore</th>\n",
       "      <th>Taste_Unadj</th>\n",
       "      <th>Taste_AgeAdj</th>\n",
       "      <th>Mars_Log_Score</th>\n",
       "      <th>Mars_Errs</th>\n",
       "      <th>Mars_Final</th>\n",
       "    </tr>\n",
       "  </thead>\n",
       "  <tbody>\n",
       "    <tr>\n",
       "      <th>0</th>\n",
       "      <td>0</td>\n",
       "      <td>100206</td>\n",
       "      <td>S900</td>\n",
       "      <td>Q11</td>\n",
       "      <td>0</td>\n",
       "      <td>27</td>\n",
       "      <td>White</td>\n",
       "      <td>Not Hispanic/Latino</td>\n",
       "      <td>65</td>\n",
       "      <td>16.0</td>\n",
       "      <td>...</td>\n",
       "      <td>6.0</td>\n",
       "      <td>108.79</td>\n",
       "      <td>97.19</td>\n",
       "      <td>1.0</td>\n",
       "      <td>49.7</td>\n",
       "      <td>72.63</td>\n",
       "      <td>72.03</td>\n",
       "      <td>1.84</td>\n",
       "      <td>0.0</td>\n",
       "      <td>1.84</td>\n",
       "    </tr>\n",
       "    <tr>\n",
       "      <th>1</th>\n",
       "      <td>1</td>\n",
       "      <td>100610</td>\n",
       "      <td>S900</td>\n",
       "      <td>Q08</td>\n",
       "      <td>0</td>\n",
       "      <td>27</td>\n",
       "      <td>White</td>\n",
       "      <td>Not Hispanic/Latino</td>\n",
       "      <td>85</td>\n",
       "      <td>16.0</td>\n",
       "      <td>...</td>\n",
       "      <td>2.0</td>\n",
       "      <td>122.25</td>\n",
       "      <td>110.45</td>\n",
       "      <td>0.0</td>\n",
       "      <td>38.6</td>\n",
       "      <td>84.84</td>\n",
       "      <td>85.31</td>\n",
       "      <td>1.92</td>\n",
       "      <td>1.0</td>\n",
       "      <td>1.88</td>\n",
       "    </tr>\n",
       "    <tr>\n",
       "      <th>2</th>\n",
       "      <td>2</td>\n",
       "      <td>101006</td>\n",
       "      <td>S500</td>\n",
       "      <td>Q06</td>\n",
       "      <td>1</td>\n",
       "      <td>35</td>\n",
       "      <td>Black or African Am.</td>\n",
       "      <td>Not Hispanic/Latino</td>\n",
       "      <td>90</td>\n",
       "      <td>12.0</td>\n",
       "      <td>...</td>\n",
       "      <td>6.0</td>\n",
       "      <td>122.25</td>\n",
       "      <td>111.41</td>\n",
       "      <td>0.0</td>\n",
       "      <td>38.6</td>\n",
       "      <td>123.80</td>\n",
       "      <td>123.31</td>\n",
       "      <td>1.80</td>\n",
       "      <td>0.0</td>\n",
       "      <td>1.80</td>\n",
       "    </tr>\n",
       "    <tr>\n",
       "      <th>3</th>\n",
       "      <td>4</td>\n",
       "      <td>102008</td>\n",
       "      <td>S500</td>\n",
       "      <td>Q06</td>\n",
       "      <td>0</td>\n",
       "      <td>24</td>\n",
       "      <td>White</td>\n",
       "      <td>Hispanic/Latino</td>\n",
       "      <td>80</td>\n",
       "      <td>12.0</td>\n",
       "      <td>...</td>\n",
       "      <td>6.0</td>\n",
       "      <td>122.25</td>\n",
       "      <td>110.45</td>\n",
       "      <td>0.0</td>\n",
       "      <td>50.1</td>\n",
       "      <td>67.48</td>\n",
       "      <td>65.31</td>\n",
       "      <td>1.80</td>\n",
       "      <td>0.0</td>\n",
       "      <td>1.80</td>\n",
       "    </tr>\n",
       "    <tr>\n",
       "      <th>4</th>\n",
       "      <td>7</td>\n",
       "      <td>102513</td>\n",
       "      <td>S900</td>\n",
       "      <td>Q10</td>\n",
       "      <td>0</td>\n",
       "      <td>30</td>\n",
       "      <td>White</td>\n",
       "      <td>Not Hispanic/Latino</td>\n",
       "      <td>50</td>\n",
       "      <td>14.0</td>\n",
       "      <td>...</td>\n",
       "      <td>5.2</td>\n",
       "      <td>108.79</td>\n",
       "      <td>98.04</td>\n",
       "      <td>2.0</td>\n",
       "      <td>54.3</td>\n",
       "      <td>84.07</td>\n",
       "      <td>82.37</td>\n",
       "      <td>1.92</td>\n",
       "      <td>0.0</td>\n",
       "      <td>1.92</td>\n",
       "    </tr>\n",
       "    <tr>\n",
       "      <th>...</th>\n",
       "      <td>...</td>\n",
       "      <td>...</td>\n",
       "      <td>...</td>\n",
       "      <td>...</td>\n",
       "      <td>...</td>\n",
       "      <td>...</td>\n",
       "      <td>...</td>\n",
       "      <td>...</td>\n",
       "      <td>...</td>\n",
       "      <td>...</td>\n",
       "      <td>...</td>\n",
       "      <td>...</td>\n",
       "      <td>...</td>\n",
       "      <td>...</td>\n",
       "      <td>...</td>\n",
       "      <td>...</td>\n",
       "      <td>...</td>\n",
       "      <td>...</td>\n",
       "      <td>...</td>\n",
       "      <td>...</td>\n",
       "      <td>...</td>\n",
       "    </tr>\n",
       "    <tr>\n",
       "      <th>559</th>\n",
       "      <td>662</td>\n",
       "      <td>990366</td>\n",
       "      <td>S900</td>\n",
       "      <td>Q10</td>\n",
       "      <td>0</td>\n",
       "      <td>22</td>\n",
       "      <td>White</td>\n",
       "      <td>Not Hispanic/Latino</td>\n",
       "      <td>95</td>\n",
       "      <td>15.0</td>\n",
       "      <td>...</td>\n",
       "      <td>4.4</td>\n",
       "      <td>108.79</td>\n",
       "      <td>97.19</td>\n",
       "      <td>1.0</td>\n",
       "      <td>52.6</td>\n",
       "      <td>93.82</td>\n",
       "      <td>92.63</td>\n",
       "      <td>1.80</td>\n",
       "      <td>0.0</td>\n",
       "      <td>1.80</td>\n",
       "    </tr>\n",
       "    <tr>\n",
       "      <th>560</th>\n",
       "      <td>663</td>\n",
       "      <td>991267</td>\n",
       "      <td>S500</td>\n",
       "      <td>Q06</td>\n",
       "      <td>0</td>\n",
       "      <td>30</td>\n",
       "      <td>White</td>\n",
       "      <td>Not Hispanic/Latino</td>\n",
       "      <td>75</td>\n",
       "      <td>14.0</td>\n",
       "      <td>...</td>\n",
       "      <td>2.8</td>\n",
       "      <td>122.25</td>\n",
       "      <td>111.41</td>\n",
       "      <td>1.0</td>\n",
       "      <td>46.6</td>\n",
       "      <td>83.23</td>\n",
       "      <td>81.55</td>\n",
       "      <td>1.84</td>\n",
       "      <td>0.0</td>\n",
       "      <td>1.84</td>\n",
       "    </tr>\n",
       "    <tr>\n",
       "      <th>561</th>\n",
       "      <td>664</td>\n",
       "      <td>992673</td>\n",
       "      <td>S900</td>\n",
       "      <td>Q12</td>\n",
       "      <td>1</td>\n",
       "      <td>33</td>\n",
       "      <td>White</td>\n",
       "      <td>Not Hispanic/Latino</td>\n",
       "      <td>70</td>\n",
       "      <td>14.0</td>\n",
       "      <td>...</td>\n",
       "      <td>3.6</td>\n",
       "      <td>122.25</td>\n",
       "      <td>111.41</td>\n",
       "      <td>1.0</td>\n",
       "      <td>38.6</td>\n",
       "      <td>101.63</td>\n",
       "      <td>99.26</td>\n",
       "      <td>1.80</td>\n",
       "      <td>0.0</td>\n",
       "      <td>1.80</td>\n",
       "    </tr>\n",
       "    <tr>\n",
       "      <th>562</th>\n",
       "      <td>665</td>\n",
       "      <td>993675</td>\n",
       "      <td>S900</td>\n",
       "      <td>Q09</td>\n",
       "      <td>1</td>\n",
       "      <td>29</td>\n",
       "      <td>White</td>\n",
       "      <td>Not Hispanic/Latino</td>\n",
       "      <td>85</td>\n",
       "      <td>16.0</td>\n",
       "      <td>...</td>\n",
       "      <td>0.4</td>\n",
       "      <td>122.25</td>\n",
       "      <td>110.45</td>\n",
       "      <td>0.0</td>\n",
       "      <td>38.6</td>\n",
       "      <td>84.07</td>\n",
       "      <td>84.25</td>\n",
       "      <td>1.80</td>\n",
       "      <td>1.0</td>\n",
       "      <td>1.76</td>\n",
       "    </tr>\n",
       "    <tr>\n",
       "      <th>563</th>\n",
       "      <td>666</td>\n",
       "      <td>996782</td>\n",
       "      <td>S900</td>\n",
       "      <td>Q08</td>\n",
       "      <td>1</td>\n",
       "      <td>28</td>\n",
       "      <td>White</td>\n",
       "      <td>Not Hispanic/Latino</td>\n",
       "      <td>100</td>\n",
       "      <td>16.0</td>\n",
       "      <td>...</td>\n",
       "      <td>6.0</td>\n",
       "      <td>108.79</td>\n",
       "      <td>97.19</td>\n",
       "      <td>0.0</td>\n",
       "      <td>38.6</td>\n",
       "      <td>75.43</td>\n",
       "      <td>73.72</td>\n",
       "      <td>1.84</td>\n",
       "      <td>0.0</td>\n",
       "      <td>1.84</td>\n",
       "    </tr>\n",
       "  </tbody>\n",
       "</table>\n",
       "<p>564 rows × 388 columns</p>\n",
       "</div>"
      ],
      "text/plain": [
       "     index  subject_label Release Acquisition  Gender  Age_in_Yrs  \\\n",
       "0        0         100206    S900         Q11       0          27   \n",
       "1        1         100610    S900         Q08       0          27   \n",
       "2        2         101006    S500         Q06       1          35   \n",
       "3        4         102008    S500         Q06       0          24   \n",
       "4        7         102513    S900         Q10       0          30   \n",
       "..     ...            ...     ...         ...     ...         ...   \n",
       "559    662         990366    S900         Q10       0          22   \n",
       "560    663         991267    S500         Q06       0          30   \n",
       "561    664         992673    S900         Q12       1          33   \n",
       "562    665         993675    S900         Q09       1          29   \n",
       "563    666         996782    S900         Q08       1          28   \n",
       "\n",
       "                     Race            Ethnicity  Handedness  Education  ...  \\\n",
       "0                   White  Not Hispanic/Latino          65       16.0  ...   \n",
       "1                   White  Not Hispanic/Latino          85       16.0  ...   \n",
       "2    Black or African Am.  Not Hispanic/Latino          90       12.0  ...   \n",
       "3                   White      Hispanic/Latino          80       12.0  ...   \n",
       "4                   White  Not Hispanic/Latino          50       14.0  ...   \n",
       "..                    ...                  ...         ...        ...  ...   \n",
       "559                 White  Not Hispanic/Latino          95       15.0  ...   \n",
       "560                 White  Not Hispanic/Latino          75       14.0  ...   \n",
       "561                 White  Not Hispanic/Latino          70       14.0  ...   \n",
       "562                 White  Not Hispanic/Latino          85       16.0  ...   \n",
       "563                 White  Not Hispanic/Latino         100       16.0  ...   \n",
       "\n",
       "     Noise_Comp  Odor_Unadj  Odor_AgeAdj  PainIntens_RawScore  \\\n",
       "0           6.0      108.79        97.19                  1.0   \n",
       "1           2.0      122.25       110.45                  0.0   \n",
       "2           6.0      122.25       111.41                  0.0   \n",
       "3           6.0      122.25       110.45                  0.0   \n",
       "4           5.2      108.79        98.04                  2.0   \n",
       "..          ...         ...          ...                  ...   \n",
       "559         4.4      108.79        97.19                  1.0   \n",
       "560         2.8      122.25       111.41                  1.0   \n",
       "561         3.6      122.25       111.41                  1.0   \n",
       "562         0.4      122.25       110.45                  0.0   \n",
       "563         6.0      108.79        97.19                  0.0   \n",
       "\n",
       "     PainInterf_Tscore  Taste_Unadj  Taste_AgeAdj  Mars_Log_Score  Mars_Errs  \\\n",
       "0                 49.7        72.63         72.03            1.84        0.0   \n",
       "1                 38.6        84.84         85.31            1.92        1.0   \n",
       "2                 38.6       123.80        123.31            1.80        0.0   \n",
       "3                 50.1        67.48         65.31            1.80        0.0   \n",
       "4                 54.3        84.07         82.37            1.92        0.0   \n",
       "..                 ...          ...           ...             ...        ...   \n",
       "559               52.6        93.82         92.63            1.80        0.0   \n",
       "560               46.6        83.23         81.55            1.84        0.0   \n",
       "561               38.6       101.63         99.26            1.80        0.0   \n",
       "562               38.6        84.07         84.25            1.80        1.0   \n",
       "563               38.6        75.43         73.72            1.84        0.0   \n",
       "\n",
       "     Mars_Final  \n",
       "0          1.84  \n",
       "1          1.88  \n",
       "2          1.80  \n",
       "3          1.80  \n",
       "4          1.92  \n",
       "..          ...  \n",
       "559        1.80  \n",
       "560        1.84  \n",
       "561        1.80  \n",
       "562        1.76  \n",
       "563        1.84  \n",
       "\n",
       "[564 rows x 388 columns]"
      ]
     },
     "execution_count": 219,
     "metadata": {},
     "output_type": "execute_result"
    }
   ],
   "source": [
    "# transform M and F with 0 and 1 \n",
    "\n",
    "df.rename(columns={\"Subject\": \"subject_label\"}, inplace=True)\n",
    "df[\"Gender\"] = df[\"Gender\"].replace({\"M\": 0, \"F\": 1})\n",
    "df"
   ]
  },
  {
   "cell_type": "code",
   "execution_count": 220,
   "id": "9a44370c-d56c-4931-a6f9-3a7dcee1ec9a",
   "metadata": {},
   "outputs": [
    {
     "name": "stdout",
     "output_type": "stream",
     "text": [
      "263\n",
      "301\n"
     ]
    }
   ],
   "source": [
    "print(df['Gender'].value_counts()[0])\n",
    "print(df['Gender'].value_counts()[1])"
   ]
  },
  {
   "cell_type": "code",
   "execution_count": 221,
   "id": "971c20e5-d054-4581-80cd-b7c50f9fd3c4",
   "metadata": {},
   "outputs": [],
   "source": [
    "#save new csv with modifications as \"final hcp database\"\n",
    "df.to_csv(\"/home/xlajoie/Desktop/Final_HCP_database.csv\")"
   ]
  },
  {
   "cell_type": "code",
   "execution_count": 222,
   "id": "cde75ab0-2066-4478-82ac-70d903420b42",
   "metadata": {},
   "outputs": [],
   "source": [
    "# load dataset containing sex and participant id\n",
    "df = pd.read_csv(\"/home/xlajoie/Desktop/Final_HCP_database.csv\")"
   ]
  },
  {
   "cell_type": "code",
   "execution_count": 223,
   "id": "929df5ef-1a0b-4e36-ad2a-5e85a9dc575e",
   "metadata": {},
   "outputs": [
    {
     "data": {
      "text/plain": [
       "0      0\n",
       "1      0\n",
       "2      1\n",
       "3      0\n",
       "4      0\n",
       "      ..\n",
       "559    0\n",
       "560    0\n",
       "561    1\n",
       "562    1\n",
       "563    1\n",
       "Name: Gender, Length: 564, dtype: int64"
      ]
     },
     "execution_count": 223,
     "metadata": {},
     "output_type": "execute_result"
    }
   ],
   "source": [
    "df[\"Gender\"]  # should have the whole list"
   ]
  },
  {
   "cell_type": "code",
   "execution_count": null,
   "id": "2c779683-159b-4ca3-b276-4099a7901802",
   "metadata": {},
   "outputs": [],
   "source": []
  },
  {
   "cell_type": "code",
   "execution_count": 224,
   "id": "07d999e2-8207-4477-acbf-595c4b605655",
   "metadata": {},
   "outputs": [],
   "source": [
    "from nilearn import datasets\n",
    "from nilearn.maskers import NiftiLabelsMasker \n",
    "\n",
    "atlas_aal = datasets.fetch_atlas_aal()\n",
    "masker = NiftiLabelsMasker(atlas_aal.maps) #si masker niftimasker MNI = devient tout les voxels \n",
    "\n",
    "def img4d2vector(img_path, masker):\n",
    "    img_masked = masker.fit_transform(img_path)  #fait une moyenne par label \n",
    "    return img_masked.flatten()  #devient 1 vecteur\n",
    "\n",
    "def vector2img4d(vector, masker):\n",
    "    data_2d = vector.reshape(8, -1)\n",
    "    return masker.inverse_transform(data_2d)   #remettre dans espace MNI that we can plot with nilearn\n"
   ]
  },
  {
   "cell_type": "code",
   "execution_count": 225,
   "id": "f4592d22-dfe3-4f3b-bc51-63c180fed843",
   "metadata": {},
   "outputs": [
    {
     "name": "stdout",
     "output_type": "stream",
     "text": [
      "116\n"
     ]
    }
   ],
   "source": [
    "print(len(atlas_aal.labels))"
   ]
  },
  {
   "cell_type": "code",
   "execution_count": 226,
   "id": "87084841-28bf-4efd-8c0d-d937e5d0a8fa",
   "metadata": {
    "tags": []
   },
   "outputs": [
    {
     "name": "stderr",
     "output_type": "stream",
     "text": [
      "100%|█████████████████████████████████████████| 200/200 [02:29<00:00,  1.34it/s]\n"
     ]
    },
    {
     "data": {
      "text/plain": [
       "(200, 928)"
      ]
     },
     "execution_count": 226,
     "metadata": {},
     "output_type": "execute_result"
    }
   ],
   "source": [
    "img_tpl = \"/data/brambati/dataset/HCP/derivatives/seed-to-voxel-nilearn/results/sub-{0}/sub-{0}_voxelcorrelations.nii.gz\"  # à changer\n",
    "\n",
    "x_correl = []\n",
    "nb_subjects = 200\n",
    "subject_label = df[\"subject_label\"][:nb_subjects]\n",
    "\n",
    "for sub in tqdm(subject_label):\n",
    "    img_path = str(Path(img_tpl.format(sub)))  # format = remplace entre accolades par # sujet\n",
    "    x_correl.append(img4d2vector(img_path, masker))\n",
    "\n",
    "x_correl = np.array(x_correl)\n",
    "x_correl.shape  # autant de lignes que de sujets, autant de colones (nb region atlas x 8 (seeds)) "
   ]
  },
  {
   "cell_type": "code",
   "execution_count": 227,
   "id": "9f253ec6-e887-4ec4-bf66-871c560fd944",
   "metadata": {},
   "outputs": [],
   "source": [
    "# prendre sex et le mettre dans une liste\n",
    "\n",
    "y_sex = df[\"Gender\"][:nb_subjects]  # maybe list(df[\"Gender\"]) \n"
   ]
  },
  {
   "cell_type": "code",
   "execution_count": 228,
   "id": "355fd836-a3bf-4efb-973d-06aa04f6d89c",
   "metadata": {},
   "outputs": [
    {
     "name": "stdout",
     "output_type": "stream",
     "text": [
      "105 200\n"
     ]
    }
   ],
   "source": [
    "print(sum(y_sex), len(y_sex))  #double check "
   ]
  },
  {
   "cell_type": "code",
   "execution_count": null,
   "id": "a97b18cf-cfba-404d-b82c-260e48c1bac8",
   "metadata": {},
   "outputs": [],
   "source": []
  },
  {
   "cell_type": "markdown",
   "id": "ce688382-1367-4900-8b38-a3e73b7d99f4",
   "metadata": {},
   "source": [
    "#### 2. Classifier "
   ]
  },
  {
   "cell_type": "code",
   "execution_count": 229,
   "id": "56f48333-8910-4d47-b482-86676d031221",
   "metadata": {},
   "outputs": [
    {
     "name": "stdout",
     "output_type": "stream",
     "text": [
      "train: 160 test: 40\n"
     ]
    }
   ],
   "source": [
    "# split the sample o training/test with a 80/20 % ratio \n",
    "# and stratify sex by class, also shuffle the data\n",
    "\n",
    "X_train, X_test, y_train, y_test = train_test_split( \n",
    "                                                    x_correl,  # x \n",
    "                                                    y_sex,       # y \n",
    "                                                    test_size = 0.2, # 80%/20% split \n",
    "                                                    shuffle = True,  #shuffle dataset before splitting\n",
    "                                                    stratify = y_sex,  # keep distribution of sex_class consistent between train and test sets\n",
    "                                                    random_state = 123) #same shuffle each time \n",
    "\n",
    "print('train:', len(X_train),'test:', len(X_test))"
   ]
  },
  {
   "cell_type": "code",
   "execution_count": 230,
   "id": "0319b01a-c62f-4ebd-a869-a339dfb1a382",
   "metadata": {},
   "outputs": [],
   "source": [
    "score = []\n",
    "\n",
    "model = LinearSVC()\n",
    "\n",
    "#score = cross_val_score(model, X_train, y_train, cv=10)\n",
    "score.append(cross_val_score(model, X_train, y_train, cv=10, n_jobs = 3).mean())"
   ]
  },
  {
   "cell_type": "code",
   "execution_count": 231,
   "id": "d1b51e95-4c1a-4fc6-8a6e-507fe5b84523",
   "metadata": {},
   "outputs": [
    {
     "name": "stdout",
     "output_type": "stream",
     "text": [
      "[0.75]\n"
     ]
    }
   ],
   "source": [
    "print(score)"
   ]
  },
  {
   "cell_type": "code",
   "execution_count": 232,
   "id": "25a0ab72-6f13-4004-88c7-a1bd4d7becc2",
   "metadata": {},
   "outputs": [
    {
     "name": "stdout",
     "output_type": "stream",
     "text": [
      "       Positive  Negative\n",
      "True         16         3\n",
      "False         4        17\n",
      "accuracy (r2) = 0.825\n"
     ]
    }
   ],
   "source": [
    "model.fit(X_train,y_train) #fit the model/ train the model\n",
    "y_pred = model.predict(X_test)\n",
    "\n",
    "#calculate the model accuracy\n",
    "acc = model.score(X_test, y_test)\n",
    "\n",
    "#compute the confusion matrix\n",
    "conf_matrix = confusion_matrix(y_test, y_pred)\n",
    "tn, fp, fn, tp = conf_matrix.ravel()\n",
    "df = pd.DataFrame(data=[[tn, fp],[fn,tp]], index= [\"True\", \"False\"], columns = [\"Positive\", \"Negative\"])\n",
    "print(df.head())\n",
    "\n",
    "# print results\n",
    "print('accuracy (r2) =', acc)"
   ]
  },
  {
   "cell_type": "code",
   "execution_count": 233,
   "id": "260d13ec-bfa6-41c2-9883-02604cbdef90",
   "metadata": {},
   "outputs": [
    {
     "data": {
      "text/plain": [
       "Text(0, 0.5, 'weight')"
      ]
     },
     "execution_count": 233,
     "metadata": {},
     "output_type": "execute_result"
    },
    {
     "data": {
      "image/png": "[encoded data removed]",
      "text/plain": [
       "<Figure size 432x288 with 1 Axes>"
      ]
     },
     "metadata": {},
     "output_type": "display_data"
    }
   ],
   "source": [
    "coef = model.coef_[0]\n",
    "\n",
    "plt.bar(range(model.coef_.shape[-1]),model.coef_[0])\n",
    "plt.title('feature importances')\n",
    "plt.xlabel('feature')\n",
    "plt.ylabel('weight')\n"
   ]
  },
  {
   "cell_type": "code",
   "execution_count": null,
   "id": "44589dcf-3809-4dec-b3c2-d90eb713387f",
   "metadata": {},
   "outputs": [],
   "source": []
  },
  {
   "cell_type": "code",
   "execution_count": null,
   "id": "08d5a4b5-55ab-452f-bc21-c809a011d53e",
   "metadata": {},
   "outputs": [],
   "source": []
  },
  {
   "cell_type": "markdown",
   "id": "ab450590-d473-40df-aa62-c28bcaebf26f",
   "metadata": {},
   "source": [
    "### Essai avec PCA and best n components"
   ]
  },
  {
   "cell_type": "markdown",
   "id": "d6ca8538-1803-43fc-a5a8-3b616f72f5cf",
   "metadata": {},
   "source": [
    "Le x_correl est la meme que celui utilise pour le modele avec les masker, il faut modifier le code en-dessous pour aller chercher un autre x_correl."
   ]
  },
  {
   "cell_type": "code",
   "execution_count": 234,
   "id": "29564e69-f1c4-4511-8318-7dc690c53cbf",
   "metadata": {},
   "outputs": [
    {
     "name": "stdout",
     "output_type": "stream",
     "text": [
      "train: 160 test: 40\n"
     ]
    },
    {
     "name": "stderr",
     "output_type": "stream",
     "text": [
      "100%|███████████████████████████████████████████| 15/15 [00:02<00:00,  6.02it/s]"
     ]
    },
    {
     "name": "stdout",
     "output_type": "stream",
     "text": [
      "[0.75, 0.60625, 0.66875, 0.68125, 0.7125, 0.725, 0.7, 0.725, 0.7125, 0.69375, 0.725, 0.73125, 0.73125, 0.725, 0.71875]\n"
     ]
    },
    {
     "name": "stderr",
     "output_type": "stream",
     "text": [
      "\n"
     ]
    },
    {
     "data": {
      "text/plain": [
       "0"
      ]
     },
     "execution_count": 234,
     "metadata": {},
     "output_type": "execute_result"
    },
    {
     "data": {
      "image/png": "[encoded data removed]",
      "text/plain": [
       "<Figure size 432x288 with 1 Axes>"
      ]
     },
     "metadata": {},
     "output_type": "display_data"
    }
   ],
   "source": [
    "# split the sample o training/test with a 80/20 % ratio \n",
    "# and stratify sex by class, also shuffle the data\n",
    "\n",
    "X_train, X_test, y_train, y_test = train_test_split( \n",
    "                                                    x_correl,  # x \n",
    "                                                    y_sex,       # y \n",
    "                                                    test_size = 0.2, # 80%/20% split \n",
    "                                                    shuffle = True,  #shuffle dataset before splitting\n",
    "                                                    stratify = y_sex,  # keep distribution of sex_class consistent between train and test sets\n",
    "                                                    random_state = 123) #same shuffle each time \n",
    "\n",
    "print('train:', len(X_train),'test:', len(X_test))\n",
    "\n",
    "\n",
    "# comparing different # of features for find how many explain the most variance \n",
    "\n",
    "score = []\n",
    "max_feature = int(0.9*len(X_train))\n",
    "n_components_range = range(0, max_feature, 10) # A range of different values for n_components\n",
    "\n",
    "for n_comp in tqdm(n_components_range):\n",
    "    if n_comp == 0:\n",
    "        model = LinearSVC(max_iter=2000)\n",
    "    else:\n",
    "        model = Pipeline([\n",
    "            ('feature_selection', PCA(n_comp)),\n",
    "            ('prediction', LinearSVC(max_iter=2000))\n",
    "                      ])\n",
    "    #score = cross_val_score(model, X_train, y_train, cv=10)\n",
    "    score.append(cross_val_score(model, X_train, y_train, cv=10, n_jobs = 3).mean())\n",
    "\n",
    "    \n",
    "print(score)\n",
    "x = list(n_components_range)\n",
    "plt.plot(x,score, color = \"b\", marker = \"*\")\n",
    "plt.xlabel(\"Features\")\n",
    "plt.ylabel(\"Cross_val Score\")\n",
    "\n",
    "best_ncomp = n_components_range[np.array(score).argmax()]\n",
    "best_ncomp\n"
   ]
  },
  {
   "cell_type": "code",
   "execution_count": 235,
   "id": "fb44e991-b6fe-4bc4-b235-dd959dfd18ad",
   "metadata": {},
   "outputs": [
    {
     "name": "stdout",
     "output_type": "stream",
     "text": [
      "       Positive  Negative\n",
      "True         16         3\n",
      "False         4        17\n",
      "accuracy (r2) = 0.825\n"
     ]
    }
   ],
   "source": [
    "if best_ncomp == 0:\n",
    "    model = LinearSVC(max_iter=2000)\n",
    "else:\n",
    "    model = Pipeline([\n",
    "            ('feature_selection', PCA(best_ncomp)),\n",
    "            ('prediction', LinearSVC(max_iter=2000))\n",
    "                      ])\n",
    "\n",
    "model.fit(X_train,y_train) #fit the model/ train the model\n",
    "y_pred = model.predict(X_test)\n",
    "\n",
    "#calculate the model accuracy\n",
    "acc = model.score(X_test, y_test)\n",
    "\n",
    "#compute the confusion matrix\n",
    "conf_matrix = confusion_matrix(y_test, y_pred)\n",
    "tn, fp, fn, tp = conf_matrix.ravel()\n",
    "df = pd.DataFrame(data=[[tn, fp],[fn,tp]], index= [\"True\", \"False\"], columns = [\"Positive\", \"Negative\"])\n",
    "print(df.head())\n",
    "\n",
    "# print results\n",
    "print('accuracy (r2) =', acc)\n",
    "\n",
    "# coef= model.coef_[0]\n",
    "# coef_reshape = np.reshape(coef, (8, 193369))\n",
    "# coef_reshape"
   ]
  },
  {
   "cell_type": "code",
   "execution_count": null,
   "id": "ca58cb7f-a28a-4c84-8178-faeecbd33677",
   "metadata": {},
   "outputs": [],
   "source": []
  }
 ],
 "metadata": {
  "kernelspec": {
   "display_name": "Python 3 (ipykernel)",
   "language": "python",
   "name": "python3"
  },
  "language_info": {
   "codemirror_mode": {
    "name": "ipython",
    "version": 3
   },
   "file_extension": ".py",
   "mimetype": "text/x-python",
   "name": "python",
   "nbconvert_exporter": "python",
   "pygments_lexer": "ipython3",
   "version": "3.8.10"
  }
 },
 "nbformat": 4,
 "nbformat_minor": 5
}
