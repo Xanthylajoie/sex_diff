{
 "cells": [
  {
   "cell_type": "markdown",
   "id": "0391603d-ecb6-4b48-8abe-e1f31fdf4d8a",
   "metadata": {},
   "source": [
    "### Final Code for Sex differences project "
   ]
  },
  {
   "cell_type": "markdown",
   "id": "e0a3bc3f-578e-4823-8bcb-b6562df3654c",
   "metadata": {},
   "source": [
    "### 1. Prep data set "
   ]
  },
  {
   "cell_type": "code",
   "execution_count": null,
   "id": "60546325-3489-4f06-953e-e9b44393e43a",
   "metadata": {},
   "outputs": [],
   "source": [
    "%matplotlib inline\n",
    "import glob\n",
    "import numpy as np\n",
    "from tqdm import tqdm\n",
    "import matplotlib.pyplot as plt \n",
    "from sklearn.model_selection import train_test_split \n",
    "\n",
    "import pandas as pd\n",
    "import seaborn as sns; sns.set()\n",
    "import os\n",
    "from sklearn.decomposition import PCA\n",
    "from sklearn.model_selection import cross_val_score\n",
    "from sklearn.pipeline import Pipeline \n",
    "from sklearn.svm import LinearSVC\n",
    "\n",
    "\n",
    "from sklearn.metrics import confusion_matrix\n"
   ]
  },
  {
   "cell_type": "code",
   "execution_count": null,
   "id": "e7640181-56a5-4479-a426-2054cc3ee05e",
   "metadata": {},
   "outputs": [],
   "source": [
    "#import data set\n",
    "df = pd.read_excel(r\"C:\\Users\\Utilisateur\\Documents\\Functional connectivity\\Sex_diff_project\\HCP_database.xlsx\")"
   ]
  },
  {
   "cell_type": "code",
   "execution_count": null,
   "id": "5887c29c-86a6-4652-8e4b-473dfd667126",
   "metadata": {},
   "outputs": [],
   "source": [
    "# Filter left-handers (>=50 handedness) \n",
    "df = df[df[\"Handedness\"] >= 50].reset_index()\n",
    "df"
   ]
  },
  {
   "cell_type": "code",
   "execution_count": null,
   "id": "cd0443da-be89-45aa-b31b-157e529db809",
   "metadata": {},
   "outputs": [],
   "source": [
    "# transform M and F with 0 and 1 \n",
    "\n",
    "df.rename(columns={\"Subject\": \"subject_label\"}, inplace=True)\n",
    "df[\"Gender\"] = df[\"Gender\"].replace({\"M\": 0, \"F\": 1})\n",
    "df"
   ]
  },
  {
   "cell_type": "code",
   "execution_count": null,
   "id": "9a44370c-d56c-4931-a6f9-3a7dcee1ec9a",
   "metadata": {},
   "outputs": [],
   "source": [
    "print(df['Gender'].value_counts()[0])\n",
    "print(df['Gender'].value_counts()[1])"
   ]
  },
  {
   "cell_type": "code",
   "execution_count": null,
   "id": "971c20e5-d054-4581-80cd-b7c50f9fd3c4",
   "metadata": {},
   "outputs": [],
   "source": [
    "df.to_csv(\"C:/Users/Utilisateur/Documents/Functional connectivity/Sex_diff_project/Final_HCP_database.csv\")"
   ]
  },
  {
   "cell_type": "code",
   "execution_count": null,
   "id": "cde75ab0-2066-4478-82ac-70d903420b42",
   "metadata": {},
   "outputs": [],
   "source": [
    "# load dataset containing sex and participant id\n",
    "df = pd.read_csv(\"/home/xlajoie/Desktop/Final_HCP_database.csv\")"
   ]
  },
  {
   "cell_type": "code",
   "execution_count": null,
   "id": "1efd67d8-4111-4f1a-a264-599534e2b809",
   "metadata": {},
   "outputs": [],
   "source": [
    "# path to seed-to-voxel matrices\n",
    "\n",
    "path_to_files = \"/home/xlajoie/Desktop/Seeds2voxels_n100\""
   ]
  },
  {
   "cell_type": "code",
   "execution_count": null,
   "id": "393ffbf1-2d5d-4479-ac4c-b127cd2bce3b",
   "metadata": {},
   "outputs": [],
   "source": [
    "path_list = glob.glob(\"Seeds2voxels_n100/*_Seeds2Voxels.nii.gz\")\n",
    "path_list.sort()"
   ]
  },
  {
   "cell_type": "code",
   "execution_count": null,
   "id": "819960e1-b4f9-4c17-9716-224ce7a8c976",
   "metadata": {},
   "outputs": [],
   "source": [
    "# get only the npy files out of the Seeds2voxels folder which also has nii.gz files \n",
    "\n",
    "ls_sub = [(file) for file in os.listdir(path_to_files) if file[-3:] == \"npy\"]\n",
    "\n",
    "x_correl = []\n",
    "y_sex = []\n",
    "for filename in ls_sub:\n",
    "    sub_id = filename.split(\"_\")[0]\n",
    "    # if sub_id is in csv\n",
    "    if len(df.loc[df['subject_label'] == int(sub_id)]) != 0:\n",
    "        x_correl.append(np.load(os.path.join(path_to_files, filename)).flatten())\n",
    "        y_sex.append(df.loc[df['subject_label'] == int(sub_id)][\"Gender\"].values[0])\n",
    "\n",
    "x_correl = np.asarray(x_correl)"
   ]
  },
  {
   "cell_type": "code",
   "execution_count": null,
   "id": "355fd836-a3bf-4efb-973d-06aa04f6d89c",
   "metadata": {},
   "outputs": [],
   "source": [
    "print(sum(y_sex), len(y_sex))"
   ]
  },
  {
   "cell_type": "markdown",
   "id": "ce688382-1367-4900-8b38-a3e73b7d99f4",
   "metadata": {},
   "source": [
    "#### 2. Classifier "
   ]
  },
  {
   "cell_type": "code",
   "execution_count": null,
   "id": "56f48333-8910-4d47-b482-86676d031221",
   "metadata": {},
   "outputs": [],
   "source": [
    "# split the sample o training/test with a 80/20 % ratio \n",
    "# and stratify sex by class, also shuffle the data\n",
    "\n",
    "X_train, X_test, y_train, y_test = train_test_split( \n",
    "                                                    x_correl,  # x \n",
    "                                                    y_sex,       # y \n",
    "                                                    test_size = 0.2, # 80%/20% split \n",
    "                                                    shuffle = True,  #shuffle dataset before splitting\n",
    "                                                    stratify = y_sex,  # keep distribution of sex_class consistent between train and test sets\n",
    "                                                    random_state = 123) #same shuffle each time \n",
    "\n",
    "print('train:', len(X_train),'test:', len(X_test))"
   ]
  },
  {
   "cell_type": "code",
   "execution_count": null,
   "id": "0319b01a-c62f-4ebd-a869-a339dfb1a382",
   "metadata": {},
   "outputs": [],
   "source": [
    "# comparing different # of features for find how many explain the most variance \n",
    "\n",
    "score = []\n",
    "max_feature = int(0.9*len(X_train))\n",
    "n_components_range = range(0, max_feature, 10) # A range of different values for n_components\n",
    "\n",
    "for n_comp in tqdm(n_components_range):\n",
    "    if n_comp == 0:\n",
    "        model = LinearSVC(max_iter=2000)\n",
    "    else:\n",
    "        model = Pipeline([\n",
    "            ('feature_selection', PCA(n_comp)),\n",
    "            ('prediction', LinearSVC(max_iter=2000))\n",
    "                      ])\n",
    "    #score = cross_val_score(model, X_train, y_train, cv=10)\n",
    "    score.append(cross_val_score(model, X_train, y_train, cv=10, n_jobs = 3).mean())"
   ]
  },
  {
   "cell_type": "code",
   "execution_count": null,
   "id": "d1b51e95-4c1a-4fc6-8a6e-507fe5b84523",
   "metadata": {},
   "outputs": [],
   "source": [
    "print(score)\n",
    "x = list(n_components_range)"
   ]
  },
  {
   "cell_type": "code",
   "execution_count": null,
   "id": "242b235d-a003-4f9a-a5a4-37d000a50ac1",
   "metadata": {},
   "outputs": [],
   "source": [
    "plt.plot(x,score, color = \"b\", marker = \"*\")\n",
    "plt.xlabel(\"Features\")\n",
    "plt.ylabel(\"Cross_val Score\")"
   ]
  },
  {
   "cell_type": "code",
   "execution_count": null,
   "id": "a9934819-70fe-4b22-bff5-fd75892a4f9f",
   "metadata": {},
   "outputs": [],
   "source": [
    "best_ncomp = n_components_range[np.array(score).argmax()]\n",
    "best_ncomp"
   ]
  },
  {
   "cell_type": "code",
   "execution_count": null,
   "id": "25a0ab72-6f13-4004-88c7-a1bd4d7becc2",
   "metadata": {},
   "outputs": [],
   "source": [
    "if best_ncomp == 0:\n",
    "    model = LinearSVC(max_iter=2000)\n",
    "else:\n",
    "    model = Pipeline([\n",
    "            ('feature_selection', PCA(best_ncomp)),\n",
    "            ('prediction', LinearSVC(max_iter=2000))\n",
    "                      ])\n",
    "model.fit(X_train,y_train) #fit the model/ train the model\n",
    "y_pred = model.predict(X_test)\n",
    "\n",
    "#calculate the model accuracy\n",
    "acc = model.score(X_test, y_test)\n",
    "\n",
    "#compute the confusion matrix\n",
    "conf_matrix = confusion_matrix(y_test, y_pred)\n",
    "tn, fp, fn, tp = conf_matrix.ravel()\n",
    "df = pd.DataFrame(data=[[tn, fp],[fn,tp]], index= [\"True\", \"False\"], columns = [\"Positive\", \"Negative\"])\n",
    "print(df.head())\n",
    "\n",
    "# print results\n",
    "print('accuracy (r2) =', acc)"
   ]
  },
  {
   "cell_type": "code",
   "execution_count": null,
   "id": "260d13ec-bfa6-41c2-9883-02604cbdef90",
   "metadata": {},
   "outputs": [],
   "source": [
    "coef= model.coef_[0]\n",
    "coef_reshape = np.reshape(coef, (8, 193369))\n",
    "coef_reshape"
   ]
  },
  {
   "cell_type": "code",
   "execution_count": null,
   "id": "a0871be9-19c4-4a37-a7da-62fe33b52101",
   "metadata": {},
   "outputs": [],
   "source": []
  },
  {
   "cell_type": "code",
   "execution_count": null,
   "id": "29564e69-f1c4-4511-8318-7dc690c53cbf",
   "metadata": {},
   "outputs": [],
   "source": []
  }
 ],
 "metadata": {
  "kernelspec": {
   "display_name": "Python 3 (ipykernel)",
   "language": "python",
   "name": "python3"
  },
  "language_info": {
   "codemirror_mode": {
    "name": "ipython",
    "version": 3
   },
   "file_extension": ".py",
   "mimetype": "text/x-python",
   "name": "python",
   "nbconvert_exporter": "python",
   "pygments_lexer": "ipython3",
   "version": "3.9.7"
  }
 },
 "nbformat": 4,
 "nbformat_minor": 5
}
