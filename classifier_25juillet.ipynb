{
 "cells": [
  {
   "cell_type": "code",
   "execution_count": 60,
   "id": "f678c901-e550-4e1a-9d4d-f51cfbe2e2a0",
   "metadata": {},
   "outputs": [],
   "source": [
    "%matplotlib inline\n",
    "import glob\n",
    "import numpy as np\n",
    "from tqdm import tqdm\n",
    "import matplotlib.pyplot as plt \n",
    "from sklearn.model_selection import train_test_split \n",
    "\n",
    "import pandas as pd\n",
    "import seaborn as sns; sns.set()\n",
    "import os\n",
    "from sklearn.decomposition import PCA\n",
    "from sklearn.model_selection import cross_val_score\n",
    "from sklearn.pipeline import Pipeline \n",
    "from sklearn.svm import LinearSVC\n",
    "\n",
    "from sklearn.metrics import confusion_matrix"
   ]
  },
  {
   "cell_type": "code",
   "execution_count": 2,
   "id": "52b41f51-a0e7-4d74-948f-a4de134d709a",
   "metadata": {},
   "outputs": [],
   "source": [
    "# load dataset containing sex and participant id\n",
    "df = pd.read_csv(\"/home/xlajoie/Desktop/Final_HCP_database.csv\")"
   ]
  },
  {
   "cell_type": "code",
   "execution_count": 3,
   "id": "ff5410d5-49a7-40e7-9cdb-98fbc7fac4be",
   "metadata": {},
   "outputs": [],
   "source": [
    "# path to seed-to-voxel matrices\n",
    "\n",
    "path_to_files = \"/home/xlajoie/Desktop/Seeds2voxels_n100\""
   ]
  },
  {
   "cell_type": "code",
   "execution_count": 4,
   "id": "44a14ca8-fc68-43ec-a556-829e0e7fb619",
   "metadata": {},
   "outputs": [],
   "source": [
    "path_list = glob.glob(\"Seeds2voxels_n100/*_Seeds2Voxels.nii.gz\")\n",
    "path_list.sort()"
   ]
  },
  {
   "cell_type": "code",
   "execution_count": 5,
   "id": "11d9cf36-9411-4f13-8e55-313ce17a3406",
   "metadata": {},
   "outputs": [],
   "source": [
    "# get only the npy files out of the Seeds2voxels folder which also has nii.gz files \n",
    "\n",
    "ls_sub = [(file) for file in os.listdir(path_to_files) if file[-3:] == \"npy\"]\n",
    "\n",
    "x_correl = []\n",
    "y_sex = []\n",
    "for filename in ls_sub:\n",
    "    sub_id = filename.split(\"_\")[0]\n",
    "    # if sub_id is in csv\n",
    "    if len(df.loc[df['subject_label'] == int(sub_id)]) != 0:\n",
    "        x_correl.append(np.load(os.path.join(path_to_files, filename)).flatten())\n",
    "        y_sex.append(df.loc[df['subject_label'] == int(sub_id)][\"Gender\"].values[0])\n",
    "\n",
    "x_correl = np.asarray(x_correl)\n",
    "    "
   ]
  },
  {
   "cell_type": "code",
   "execution_count": 6,
   "id": "6026a5fa-e73d-4dcd-b3eb-d5732b07bcca",
   "metadata": {},
   "outputs": [
    {
     "name": "stdout",
     "output_type": "stream",
     "text": [
      "40 78\n"
     ]
    }
   ],
   "source": [
    "print(sum(y_sex), len(y_sex))"
   ]
  },
  {
   "cell_type": "code",
   "execution_count": null,
   "id": "025192a8-c54b-48fa-91b3-0c4b1b2df20a",
   "metadata": {},
   "outputs": [],
   "source": []
  },
  {
   "cell_type": "code",
   "execution_count": 8,
   "id": "4a0a4634-76b8-4a2f-850b-5a70e5ceace5",
   "metadata": {},
   "outputs": [
    {
     "name": "stdout",
     "output_type": "stream",
     "text": [
      "train: 62 test: 16\n"
     ]
    }
   ],
   "source": [
    "# split the sample o training/test with a 80/20 % ratio \n",
    "# and stratify sex by class, also shuffle the data\n",
    "\n",
    "X_train, X_test, y_train, y_test = train_test_split( \n",
    "                                                    x_correl,  # x \n",
    "                                                    y_sex,       # y \n",
    "                                                    test_size = 0.2, # 80%/20% split \n",
    "                                                    shuffle = True,  #shuffle dataset before splitting\n",
    "                                                    stratify = y_sex,  # keep distribution of sex_class consistent between train and test sets\n",
    "                                                    random_state = 123) #same shuffle each time \n",
    "\n",
    "print('train:', len(X_train),'test:', len(X_test))\n",
    "\n",
    "\n"
   ]
  },
  {
   "cell_type": "code",
   "execution_count": 20,
   "id": "e2135ecd-2c59-4018-9b07-5a2db27f51e5",
   "metadata": {},
   "outputs": [
    {
     "name": "stderr",
     "output_type": "stream",
     "text": [
      "  0%|                                                     | 0/5 [00:00<?, ?it/s]/data/brambati/local/venvs/lingualab_workstation/lib/python3.8/site-packages/sklearn/svm/_base.py:1206: ConvergenceWarning: Liblinear failed to converge, increase the number of iterations.\n",
      "  warnings.warn(\n",
      "/data/brambati/local/venvs/lingualab_workstation/lib/python3.8/site-packages/sklearn/svm/_base.py:1206: ConvergenceWarning: Liblinear failed to converge, increase the number of iterations.\n",
      "  warnings.warn(\n",
      "/data/brambati/local/venvs/lingualab_workstation/lib/python3.8/site-packages/sklearn/svm/_base.py:1206: ConvergenceWarning: Liblinear failed to converge, increase the number of iterations.\n",
      "  warnings.warn(\n",
      "/data/brambati/local/venvs/lingualab_workstation/lib/python3.8/site-packages/sklearn/svm/_base.py:1206: ConvergenceWarning: Liblinear failed to converge, increase the number of iterations.\n",
      "  warnings.warn(\n",
      "/data/brambati/local/venvs/lingualab_workstation/lib/python3.8/site-packages/sklearn/svm/_base.py:1206: ConvergenceWarning: Liblinear failed to converge, increase the number of iterations.\n",
      "  warnings.warn(\n",
      "/data/brambati/local/venvs/lingualab_workstation/lib/python3.8/site-packages/sklearn/svm/_base.py:1206: ConvergenceWarning: Liblinear failed to converge, increase the number of iterations.\n",
      "  warnings.warn(\n",
      "/data/brambati/local/venvs/lingualab_workstation/lib/python3.8/site-packages/sklearn/svm/_base.py:1206: ConvergenceWarning: Liblinear failed to converge, increase the number of iterations.\n",
      "  warnings.warn(\n",
      "/data/brambati/local/venvs/lingualab_workstation/lib/python3.8/site-packages/sklearn/svm/_base.py:1206: ConvergenceWarning: Liblinear failed to converge, increase the number of iterations.\n",
      "  warnings.warn(\n",
      "/data/brambati/local/venvs/lingualab_workstation/lib/python3.8/site-packages/sklearn/svm/_base.py:1206: ConvergenceWarning: Liblinear failed to converge, increase the number of iterations.\n",
      "  warnings.warn(\n",
      "/data/brambati/local/venvs/lingualab_workstation/lib/python3.8/site-packages/sklearn/svm/_base.py:1206: ConvergenceWarning: Liblinear failed to converge, increase the number of iterations.\n",
      "  warnings.warn(\n",
      " 20%|█████████                                    | 1/5 [01:14<04:56, 74.13s/it]/data/brambati/local/venvs/lingualab_workstation/lib/python3.8/site-packages/sklearn/svm/_base.py:1206: ConvergenceWarning: Liblinear failed to converge, increase the number of iterations.\n",
      "  warnings.warn(\n",
      "/data/brambati/local/venvs/lingualab_workstation/lib/python3.8/site-packages/sklearn/svm/_base.py:1206: ConvergenceWarning: Liblinear failed to converge, increase the number of iterations.\n",
      "  warnings.warn(\n",
      "/data/brambati/local/venvs/lingualab_workstation/lib/python3.8/site-packages/sklearn/svm/_base.py:1206: ConvergenceWarning: Liblinear failed to converge, increase the number of iterations.\n",
      "  warnings.warn(\n",
      "/data/brambati/local/venvs/lingualab_workstation/lib/python3.8/site-packages/sklearn/svm/_base.py:1206: ConvergenceWarning: Liblinear failed to converge, increase the number of iterations.\n",
      "  warnings.warn(\n",
      "/data/brambati/local/venvs/lingualab_workstation/lib/python3.8/site-packages/sklearn/svm/_base.py:1206: ConvergenceWarning: Liblinear failed to converge, increase the number of iterations.\n",
      "  warnings.warn(\n",
      "/data/brambati/local/venvs/lingualab_workstation/lib/python3.8/site-packages/sklearn/svm/_base.py:1206: ConvergenceWarning: Liblinear failed to converge, increase the number of iterations.\n",
      "  warnings.warn(\n",
      "/data/brambati/local/venvs/lingualab_workstation/lib/python3.8/site-packages/sklearn/svm/_base.py:1206: ConvergenceWarning: Liblinear failed to converge, increase the number of iterations.\n",
      "  warnings.warn(\n",
      "/data/brambati/local/venvs/lingualab_workstation/lib/python3.8/site-packages/sklearn/svm/_base.py:1206: ConvergenceWarning: Liblinear failed to converge, increase the number of iterations.\n",
      "  warnings.warn(\n",
      "/data/brambati/local/venvs/lingualab_workstation/lib/python3.8/site-packages/sklearn/svm/_base.py:1206: ConvergenceWarning: Liblinear failed to converge, increase the number of iterations.\n",
      "  warnings.warn(\n",
      "/data/brambati/local/venvs/lingualab_workstation/lib/python3.8/site-packages/sklearn/svm/_base.py:1206: ConvergenceWarning: Liblinear failed to converge, increase the number of iterations.\n",
      "  warnings.warn(\n",
      " 40%|██████████████████                           | 2/5 [02:39<04:02, 80.88s/it]/data/brambati/local/venvs/lingualab_workstation/lib/python3.8/site-packages/sklearn/svm/_base.py:1206: ConvergenceWarning: Liblinear failed to converge, increase the number of iterations.\n",
      "  warnings.warn(\n",
      "/data/brambati/local/venvs/lingualab_workstation/lib/python3.8/site-packages/sklearn/svm/_base.py:1206: ConvergenceWarning: Liblinear failed to converge, increase the number of iterations.\n",
      "  warnings.warn(\n",
      "/data/brambati/local/venvs/lingualab_workstation/lib/python3.8/site-packages/sklearn/svm/_base.py:1206: ConvergenceWarning: Liblinear failed to converge, increase the number of iterations.\n",
      "  warnings.warn(\n",
      "/data/brambati/local/venvs/lingualab_workstation/lib/python3.8/site-packages/sklearn/svm/_base.py:1206: ConvergenceWarning: Liblinear failed to converge, increase the number of iterations.\n",
      "  warnings.warn(\n",
      "/data/brambati/local/venvs/lingualab_workstation/lib/python3.8/site-packages/sklearn/svm/_base.py:1206: ConvergenceWarning: Liblinear failed to converge, increase the number of iterations.\n",
      "  warnings.warn(\n",
      "/data/brambati/local/venvs/lingualab_workstation/lib/python3.8/site-packages/sklearn/svm/_base.py:1206: ConvergenceWarning: Liblinear failed to converge, increase the number of iterations.\n",
      "  warnings.warn(\n",
      "/data/brambati/local/venvs/lingualab_workstation/lib/python3.8/site-packages/sklearn/svm/_base.py:1206: ConvergenceWarning: Liblinear failed to converge, increase the number of iterations.\n",
      "  warnings.warn(\n",
      "/data/brambati/local/venvs/lingualab_workstation/lib/python3.8/site-packages/sklearn/svm/_base.py:1206: ConvergenceWarning: Liblinear failed to converge, increase the number of iterations.\n",
      "  warnings.warn(\n",
      "/data/brambati/local/venvs/lingualab_workstation/lib/python3.8/site-packages/sklearn/svm/_base.py:1206: ConvergenceWarning: Liblinear failed to converge, increase the number of iterations.\n",
      "  warnings.warn(\n",
      "100%|████████████████████████████████████████████| 5/5 [09:08<00:00, 109.74s/it]\n"
     ]
    }
   ],
   "source": [
    "# comparing different # of features for find how many explain the most variance \n",
    "\n",
    "score = []\n",
    "max_feature = int(0.9*len(X_train))\n",
    "n_components_range = range(0, max_feature, 10) # A range of different values for n_components\n",
    "\n",
    "for n_comp in tqdm(n_components_range):\n",
    "    if n_comp=0:\n",
    "        model = LinearSVC(max_iter=2000)\n",
    "    else:\n",
    "        model = Pipeline([\n",
    "            ('feature_selection', PCA(n_comp)),\n",
    "            ('prediction', LinearSVC(max_iter=2000))\n",
    "                      ])\n",
    "    #score = cross_val_score(model, X_train, y_train, cv=10)\n",
    "    score.append(cross_val_score(model, X_train, y_train, cv=10, n_job=-1).mean())\n"
   ]
  },
  {
   "cell_type": "code",
   "execution_count": 32,
   "id": "7cf26322-0306-4eaf-888f-80ce6c68e1f2",
   "metadata": {},
   "outputs": [
    {
     "name": "stdout",
     "output_type": "stream",
     "text": [
      "[0.6952380952380952, 0.6738095238095237, 0.6476190476190476, 0.6095238095238095, 0.6404761904761904]\n"
     ]
    }
   ],
   "source": [
    "print(score)\n",
    "x = list(n_components_range)"
   ]
  },
  {
   "cell_type": "code",
   "execution_count": 41,
   "id": "468abc92-c7f6-4ee2-ba5d-8cfb5fd19796",
   "metadata": {},
   "outputs": [
    {
     "data": {
      "text/plain": [
       "Text(0, 0.5, 'Prediction')"
      ]
     },
     "execution_count": 41,
     "metadata": {},
     "output_type": "execute_result"
    },
    {
     "data": {
      "image/png": "[encoded data removed]",
      "text/plain": [
       "<Figure size 432x288 with 1 Axes>"
      ]
     },
     "metadata": {},
     "output_type": "display_data"
    }
   ],
   "source": [
    "plt.plot(x,score, color = \"b\", marker = \"*\")\n",
    "plt.xlabel(\"Features\")\n",
    "plt.ylabel(\"Prediction\")"
   ]
  },
  {
   "cell_type": "code",
   "execution_count": 66,
   "id": "97a6ff3c-64d9-468d-987b-9ebbce48a1af",
   "metadata": {},
   "outputs": [
    {
     "data": {
      "text/plain": [
       "5"
      ]
     },
     "execution_count": 66,
     "metadata": {},
     "output_type": "execute_result"
    }
   ],
   "source": [
    "best_ncomp = n_components_range[np.array(score).argmax()]\n",
    "best_ncomp"
   ]
  },
  {
   "cell_type": "code",
   "execution_count": 42,
   "id": "ff4a81fc-b8eb-425f-9457-b9b3129dcdab",
   "metadata": {},
   "outputs": [
    {
     "name": "stdout",
     "output_type": "stream",
     "text": [
      "[[ 1.83326536e+01  3.00440347e+01  5.48792307e+00 -2.52233952e+01\n",
      "   6.53420580e+00]\n",
      " [ 2.11123812e+01 -4.35750575e+00  4.10856546e+00 -2.79086956e+01\n",
      "   2.04855404e+01]\n",
      " [ 5.97243627e+01 -2.61974710e+01  2.24281390e+01 -1.45787973e+00\n",
      "  -3.48860954e-01]\n",
      " [ 9.76210725e+01 -8.91280660e+00  5.56513083e+01 -1.02133974e+01\n",
      "   3.35810030e+01]\n",
      " [-3.72255082e+01  2.58602744e+00  7.74422999e+00  4.82531568e-01\n",
      "  -8.36806164e+00]\n",
      " [ 6.58634120e+00 -2.57628967e+01  5.47391126e+00  9.08724802e+00\n",
      "   2.03455855e+00]\n",
      " [ 4.71007755e+01 -2.38271204e+01 -1.46435173e+01 -4.43105170e+00\n",
      "   2.59695004e+00]\n",
      " [-2.47470286e+01 -2.00507013e+01 -1.49989302e+01  1.41433239e+00\n",
      "  -2.58615520e+00]\n",
      " [ 6.80445110e+01  1.88541168e-02  3.49503199e+00  9.85561075e+00\n",
      "   2.53064224e+01]\n",
      " [-8.52589081e+01 -7.22530595e+00 -1.16377318e+01 -2.56548436e+00\n",
      "   6.33545270e+00]\n",
      " [ 5.91445817e+01 -3.71622659e+01 -2.34445282e+00 -5.30581802e+00\n",
      "   1.64054051e+01]\n",
      " [-8.03197528e+01  2.27362224e+00 -7.91957140e+00 -6.10357023e+00\n",
      "   2.19174310e+00]\n",
      " [-2.99361546e+01  1.87660315e+01  1.38146232e+01  6.68059060e+00\n",
      "   1.24532707e+01]\n",
      " [-2.55423953e+01  1.44092667e+01  8.61798313e+00  7.58548533e+00\n",
      "  -8.57609308e+00]\n",
      " [ 5.50806138e+01 -2.86234182e+01 -2.91902937e+01  5.75229690e-01\n",
      "   4.53545770e+01]\n",
      " [ 5.12529012e+01 -2.82153511e+01 -8.00732987e+00 -2.55152706e+00\n",
      "  -4.20314492e+00]\n",
      " [ 4.52966691e+01  2.70095545e+01  2.79515409e+01 -3.78058634e+01\n",
      "  -4.52686399e+01]\n",
      " [ 4.72185900e+01 -2.57963527e+01  1.26253858e+01  2.77235695e+00\n",
      "  -1.32711612e+01]\n",
      " [-1.76875341e+01  9.84972571e+00  6.47799915e+00 -4.21615891e+00\n",
      "   3.61028443e+00]\n",
      " [-2.30683534e+01  3.77908642e+01  6.14837565e+00 -2.19463993e+01\n",
      "   1.82858872e+01]\n",
      " [ 2.13061795e+01 -6.80079951e+00  3.42146363e+01  1.18866862e+01\n",
      "  -1.54700647e+01]\n",
      " [-9.16390656e+01 -4.17506095e+00 -4.64264567e+00 -8.97187251e+00\n",
      "   1.12680287e+00]\n",
      " [ 3.81322851e+00  9.44603612e+00 -3.86747870e+00  2.55664224e+01\n",
      "  -1.00391694e+01]\n",
      " [ 4.76616412e+00  3.58855419e+00 -3.46489633e+00  8.09797034e+00\n",
      "   6.57293919e+00]\n",
      " [ 4.68171925e-01  7.11242537e+00 -8.16473242e-01 -1.07561113e+01\n",
      "   1.30818848e+01]\n",
      " [-9.33270732e-01  4.30597085e+00  1.08353397e+01 -6.03003560e+00\n",
      "  -4.02779067e+00]\n",
      " [-6.20449116e+01  8.79967497e+00 -3.57831693e+00 -8.32605946e+00\n",
      "  -1.23835834e+01]\n",
      " [-4.96449465e+01 -8.22514586e+00 -3.21549926e+00  3.88727462e+00\n",
      "   1.32687287e-01]\n",
      " [-1.84567481e+01  6.98220091e+00  6.01733410e+00 -2.17013413e+00\n",
      "   4.24316605e+00]\n",
      " [-2.60903426e+01 -5.34492925e+00  2.00955729e+01  1.18995877e+01\n",
      "  -1.79192910e+01]\n",
      " [-6.98011367e+00  6.38707398e+00 -8.01449390e+00  1.07298303e+01\n",
      "  -1.88551004e+01]\n",
      " [ 1.70973927e+01 -3.13039739e+00  5.55669675e+00 -9.00790564e+00\n",
      "  -8.85447013e-02]\n",
      " [-7.36290273e+01 -8.53819981e+00 -5.89108856e+00 -2.79435297e+00\n",
      "   9.18859073e+00]\n",
      " [ 8.57872998e+00  3.86430809e+00 -1.99496751e+01  7.01132156e+00\n",
      "  -1.02962010e+01]\n",
      " [-4.72446021e+01  7.46871326e+00  4.46571544e+00 -5.40267347e+00\n",
      "   1.83928829e+01]\n",
      " [-3.39609830e+01 -1.78314636e+00  1.04564204e+00 -6.03024250e+00\n",
      "  -2.58782953e+00]\n",
      " [ 3.37520604e+01  7.67457953e-01 -9.50284279e-01 -5.76667670e+00\n",
      "  -1.13879251e+01]\n",
      " [ 1.12709278e+02 -1.81541461e+01 -8.06864651e+00  9.25533767e-01\n",
      "  -2.79350942e+01]\n",
      " [-4.22832679e+01 -4.69552567e+00  1.44667058e+01  1.18945092e+01\n",
      "  -4.34841689e+00]\n",
      " [-6.18242854e+01 -1.66647292e+01 -2.35934173e+01  1.12752637e+01\n",
      "   8.61225104e+00]\n",
      " [ 5.27457436e+01  2.13542263e+01 -3.19147536e+00  6.05653372e+00\n",
      "   5.08703586e-01]\n",
      " [ 3.66832005e+01  5.29097834e+00 -2.13023617e+01  1.55322236e+00\n",
      "   5.76277444e+00]\n",
      " [-5.36322215e+00 -2.39564313e+01 -1.62741180e+00  6.46649312e+00\n",
      "  -1.50212753e+00]\n",
      " [ 1.44464298e+02 -3.67300410e+01  2.21599358e+01  1.56386775e+01\n",
      "  -2.72558292e+01]\n",
      " [-7.86647896e+01 -1.11724213e+01  1.69041168e+01  2.36725740e+01\n",
      "  -9.48479092e+00]\n",
      " [ 5.41504054e+00 -2.92197808e+01 -1.44904506e+01 -1.12038710e+01\n",
      "   2.21814975e+01]\n",
      " [-1.29455129e+01 -1.07446800e+01 -1.15045411e+01 -1.10570473e+01\n",
      "   3.16245147e+00]\n",
      " [-6.96102163e+01 -1.00044413e+01 -1.40453637e+01  1.04360395e+01\n",
      "   6.51360946e+00]\n",
      " [ 9.34222509e+01  1.68664553e+01 -2.33531078e+01 -2.46240180e+01\n",
      "   2.60648782e+01]\n",
      " [ 9.41356055e+01  3.23300645e+01 -1.72662081e+01  6.17355214e+01\n",
      "  -2.13313429e+00]\n",
      " [-1.14718614e+01  1.52841015e+01 -8.91986785e+00 -1.40161628e+00\n",
      "   1.88997890e+00]\n",
      " [ 1.78236174e+01 -4.18354185e-01 -1.46951538e+01  7.17375765e+00\n",
      "   1.87049680e+00]\n",
      " [-5.93931511e+01 -1.36891220e+00  1.22931110e+01 -3.88673291e+00\n",
      "   1.15063630e+00]\n",
      " [-4.74301463e+01  1.02928991e+01  1.57911463e+01 -2.49603663e+00\n",
      "  -1.18685709e+01]\n",
      " [ 7.27096344e+01  6.83612163e+01  1.32565246e+01  4.95214478e+01\n",
      "   2.47816109e+01]\n",
      " [ 1.32479208e+02 -1.87142758e+01 -4.34280883e+01 -2.20846493e+01\n",
      "  -2.76275991e+01]\n",
      " [ 2.17908201e+01  1.79581232e+00  1.41779191e+01 -5.63060800e+00\n",
      "  -5.51119841e+00]\n",
      " [-2.53339589e+01 -2.44362864e+01 -1.99404085e+00  4.51178820e+00\n",
      "  -1.22385971e+01]\n",
      " [-2.72881419e+01  1.01209884e+01 -1.11343115e+01 -1.31853362e+01\n",
      "  -1.16451814e+01]\n",
      " [-1.79218973e+00  2.34872424e+01  1.31118958e+01 -5.52061485e+00\n",
      "   2.14302889e+01]\n",
      " [ 4.29986969e+01  3.23304388e+01 -2.81576142e+01  5.70472832e+00\n",
      "  -1.34690068e+00]\n",
      " [-2.17219074e+01 -2.03445262e+01 -1.99008485e+01  1.81130318e+01\n",
      "  -5.43140280e+00]\n",
      " [-8.87730302e+01 -5.91627472e+00 -7.14724427e-02  1.18964268e+01\n",
      "  -6.14184638e+00]\n",
      " [-8.58215910e+01  9.92840431e-01 -1.13411471e+01 -8.31161491e-01\n",
      "  -5.72745541e-02]\n",
      " [-1.15497486e+01 -3.05128321e+01  9.18914771e+00 -7.10464676e+00\n",
      "   6.45226023e+00]\n",
      " [ 2.97733649e+01 -8.76135200e+00  2.67381784e+01 -3.02228357e-02\n",
      "   2.36010805e+01]\n",
      " [ 2.91067991e+01  1.67710837e+01 -6.56979250e-01 -1.91622934e+01\n",
      "   1.17527809e+00]\n",
      " [-3.04205522e+01  9.12428451e+00  9.62215995e+00 -1.71997970e+01\n",
      "  -9.38599116e+00]\n",
      " [-7.09394903e+01 -2.52839181e+01  1.20629436e+01  2.75573080e+00\n",
      "  -6.14753715e+00]\n",
      " [ 2.96988548e+01  7.40070329e+00  7.65851708e+00 -6.60763283e-01\n",
      "   6.94092203e+00]\n",
      " [ 5.91416040e+01  3.93142621e+01 -2.27770862e+01  6.79534860e+00\n",
      "  -1.69738927e+01]\n",
      " [ 7.02965330e+00  3.41865497e+00  5.93863527e+00 -9.15468322e+00\n",
      "  -1.27338535e+01]\n",
      " [-8.28365521e+01 -6.75042083e+00 -1.59258263e+01  1.26155348e+01\n",
      "  -4.23768604e+00]\n",
      " [ 2.14564992e+01 -3.34642769e+01  7.83218220e+00  6.06684380e+00\n",
      "   8.54158040e+00]\n",
      " [ 3.71679345e+00  2.32928070e+01  6.66091581e+00  8.00157961e+00\n",
      "  -1.90335519e+01]\n",
      " [-5.72810337e+01 -3.37972764e+00  3.31088422e+00  1.00212318e+01\n",
      "  -3.30499607e+00]\n",
      " [ 3.91274102e+00  3.99254950e+01 -1.84330150e+01 -4.07576601e+01\n",
      "  -1.48843883e+01]\n",
      " [-5.03567884e+01  3.55972773e+01  5.58024090e+00  6.12766856e-01\n",
      "   8.35292498e+00]]\n"
     ]
    }
   ],
   "source": [
    "# Now that we know how many features explain the most variance, we can put the number here \n",
    "\n",
    "pca = PCA(n_components=5)  #top 5 which explain the most variance found from the \n",
    "pca.fit(x_correl)\n",
    "X_features = pca.transform(x_correl)\n",
    "print(X_features)"
   ]
  },
  {
   "cell_type": "code",
   "execution_count": 61,
   "id": "a21c9cbd-0863-489f-a054-9c0a22223a98",
   "metadata": {},
   "outputs": [
    {
     "data": {
      "text/plain": [
       "array([[6, 2],\n",
       "       [0, 8]])"
      ]
     },
     "execution_count": 61,
     "metadata": {},
     "output_type": "execute_result"
    }
   ],
   "source": [
    "confusion_matrix(y_test, y_pred)"
   ]
  },
  {
   "cell_type": "code",
   "execution_count": 55,
   "id": "dda05475-6eb5-4991-9d09-629fbd15cf23",
   "metadata": {},
   "outputs": [
    {
     "data": {
      "text/plain": [
       "array([1, 0, 1, 1, 1, 1, 1, 0, 0, 1, 1, 0, 1, 0, 0, 1])"
      ]
     },
     "execution_count": 55,
     "metadata": {},
     "output_type": "execute_result"
    }
   ],
   "source": [
    "y_pred\n"
   ]
  },
  {
   "cell_type": "code",
   "execution_count": 57,
   "id": "e41fe438-7707-4d20-974f-798d4121d9d4",
   "metadata": {},
   "outputs": [
    {
     "data": {
      "text/plain": [
       "array([2, 0, 2, 2, 2, 1, 2, 0, 0, 1, 2, 0, 2, 0, 0, 2])"
      ]
     },
     "execution_count": 57,
     "metadata": {},
     "output_type": "execute_result"
    }
   ],
   "source": [
    "y_test + y_pred"
   ]
  },
  {
   "cell_type": "code",
   "execution_count": 77,
   "id": "eeff217e-f0ea-4187-87c2-fc2f2d623a6c",
   "metadata": {},
   "outputs": [
    {
     "name": "stderr",
     "output_type": "stream",
     "text": [
      "/data/brambati/local/venvs/lingualab_workstation/lib/python3.8/site-packages/sklearn/svm/_base.py:1206: ConvergenceWarning: Liblinear failed to converge, increase the number of iterations.\n",
      "  warnings.warn(\n"
     ]
    },
    {
     "name": "stdout",
     "output_type": "stream",
     "text": [
      "       Positive  Negative\n",
      "True          7         1\n",
      "False         2         6\n",
      "accuracy (r2) = 0.8125\n"
     ]
    }
   ],
   "source": [
    "if best_ncomp == 0:\n",
    "    model = LinearSVC(max_iter=2000)\n",
    "else:\n",
    "    model = Pipeline([\n",
    "            ('feature_selection', PCA(best_ncomp)),\n",
    "            ('prediction', LinearSVC(max_iter=2000))\n",
    "                      ])\n",
    "model.fit(X_train,y_train) #fit the model/ train the model\n",
    "y_pred = model.predict(X_test)\n",
    "\n",
    "#calculate the model accuracy\n",
    "acc = model.score(X_test, y_test)\n",
    "\n",
    "#compute the confusion matrix\n",
    "conf_matrix = confusion_matrix(y_test, y_pred)\n",
    "tn, fp, fn, tp = conf_matrix.ravel()\n",
    "df = pd.DataFrame(data=[[tn, fp],[fn,tp]], index= [\"True\", \"False\"], columns = [\"Positive\", \"Negative\"])\n",
    "print(df.head())\n",
    "\n",
    "# print results\n",
    "print('accuracy (r2) =', acc)\n",
    "\n"
   ]
  },
  {
   "cell_type": "code",
   "execution_count": 50,
   "id": "1512ee15-8413-4965-b6cb-c0a104b27328",
   "metadata": {},
   "outputs": [
    {
     "data": {
      "text/plain": [
       "(6, 2, 0, 8)"
      ]
     },
     "execution_count": 50,
     "metadata": {},
     "output_type": "execute_result"
    }
   ],
   "source": [
    "tn, fp, fn, tp = confusion_matrix.ravel()\n",
    "(tn, fp, fn, tp)"
   ]
  },
  {
   "cell_type": "code",
   "execution_count": 62,
   "id": "8dde2924-e6bf-448f-becf-8f94249ecb76",
   "metadata": {},
   "outputs": [
    {
     "data": {
      "text/html": [
       "<div>\n",
       "<style scoped>\n",
       "    .dataframe tbody tr th:only-of-type {\n",
       "        vertical-align: middle;\n",
       "    }\n",
       "\n",
       "    .dataframe tbody tr th {\n",
       "        vertical-align: top;\n",
       "    }\n",
       "\n",
       "    .dataframe thead th {\n",
       "        text-align: right;\n",
       "    }\n",
       "</style>\n",
       "<table border=\"1\" class=\"dataframe\">\n",
       "  <thead>\n",
       "    <tr style=\"text-align: right;\">\n",
       "      <th></th>\n",
       "      <th>Positive</th>\n",
       "      <th>Negative</th>\n",
       "    </tr>\n",
       "  </thead>\n",
       "  <tbody>\n",
       "    <tr>\n",
       "      <th>True</th>\n",
       "      <td>6</td>\n",
       "      <td>2</td>\n",
       "    </tr>\n",
       "    <tr>\n",
       "      <th>False</th>\n",
       "      <td>0</td>\n",
       "      <td>8</td>\n",
       "    </tr>\n",
       "  </tbody>\n",
       "</table>\n",
       "</div>"
      ],
      "text/plain": [
       "       Positive  Negative\n",
       "True          6         2\n",
       "False         0         8"
      ]
     },
     "execution_count": 62,
     "metadata": {},
     "output_type": "execute_result"
    }
   ],
   "source": [
    "df = pd.DataFrame(data=[[tn, fp],[fn,tp]], index= [\"True\", \"False\"], columns = [\"Positive\", \"Negative\"])\n",
    "df"
   ]
  },
  {
   "cell_type": "code",
   "execution_count": 72,
   "id": "015c6a66-4226-41c0-b726-966712372631",
   "metadata": {},
   "outputs": [
    {
     "data": {
      "text/plain": [
       "['__abstractmethods__',\n",
       " '__annotations__',\n",
       " '__class__',\n",
       " '__delattr__',\n",
       " '__dict__',\n",
       " '__dir__',\n",
       " '__doc__',\n",
       " '__eq__',\n",
       " '__format__',\n",
       " '__ge__',\n",
       " '__getattribute__',\n",
       " '__getitem__',\n",
       " '__getstate__',\n",
       " '__gt__',\n",
       " '__hash__',\n",
       " '__init__',\n",
       " '__init_subclass__',\n",
       " '__le__',\n",
       " '__len__',\n",
       " '__lt__',\n",
       " '__module__',\n",
       " '__ne__',\n",
       " '__new__',\n",
       " '__reduce__',\n",
       " '__reduce_ex__',\n",
       " '__repr__',\n",
       " '__setattr__',\n",
       " '__setstate__',\n",
       " '__sizeof__',\n",
       " '__sklearn_is_fitted__',\n",
       " '__str__',\n",
       " '__subclasshook__',\n",
       " '__weakref__',\n",
       " '_abc_impl',\n",
       " '_can_inverse_transform',\n",
       " '_can_transform',\n",
       " '_check_feature_names',\n",
       " '_check_fit_params',\n",
       " '_check_n_features',\n",
       " '_estimator_type',\n",
       " '_final_estimator',\n",
       " '_fit',\n",
       " '_get_param_names',\n",
       " '_get_params',\n",
       " '_get_tags',\n",
       " '_iter',\n",
       " '_log_message',\n",
       " '_more_tags',\n",
       " '_pairwise',\n",
       " '_replace_estimator',\n",
       " '_repr_html_',\n",
       " '_repr_html_inner',\n",
       " '_repr_mimebundle_',\n",
       " '_required_parameters',\n",
       " '_set_params',\n",
       " '_sk_visual_block_',\n",
       " '_validate_data',\n",
       " '_validate_names',\n",
       " '_validate_steps',\n",
       " 'classes_',\n",
       " 'decision_function',\n",
       " 'feature_names_in_',\n",
       " 'fit',\n",
       " 'fit_predict',\n",
       " 'fit_transform',\n",
       " 'get_feature_names_out',\n",
       " 'get_params',\n",
       " 'inverse_transform',\n",
       " 'memory',\n",
       " 'n_features_in_',\n",
       " 'named_steps',\n",
       " 'predict',\n",
       " 'predict_log_proba',\n",
       " 'predict_proba',\n",
       " 'score',\n",
       " 'score_samples',\n",
       " 'set_params',\n",
       " 'steps',\n",
       " 'transform',\n",
       " 'verbose']"
      ]
     },
     "execution_count": 72,
     "metadata": {},
     "output_type": "execute_result"
    }
   ],
   "source": [
    "dir(model)"
   ]
  },
  {
   "cell_type": "code",
   "execution_count": 73,
   "id": "bf96eeb1-1521-4165-a282-fe18ae9f830f",
   "metadata": {},
   "outputs": [
    {
     "data": {
      "text/plain": [
       "{'memory': None,\n",
       " 'steps': [('feature_selection', PCA(n_components=5)),\n",
       "  ('prediction', LinearSVC(max_iter=2000))],\n",
       " 'verbose': False,\n",
       " 'feature_selection': PCA(n_components=5),\n",
       " 'prediction': LinearSVC(max_iter=2000),\n",
       " 'feature_selection__copy': True,\n",
       " 'feature_selection__iterated_power': 'auto',\n",
       " 'feature_selection__n_components': 5,\n",
       " 'feature_selection__random_state': None,\n",
       " 'feature_selection__svd_solver': 'auto',\n",
       " 'feature_selection__tol': 0.0,\n",
       " 'feature_selection__whiten': False,\n",
       " 'prediction__C': 1.0,\n",
       " 'prediction__class_weight': None,\n",
       " 'prediction__dual': True,\n",
       " 'prediction__fit_intercept': True,\n",
       " 'prediction__intercept_scaling': 1,\n",
       " 'prediction__loss': 'squared_hinge',\n",
       " 'prediction__max_iter': 2000,\n",
       " 'prediction__multi_class': 'ovr',\n",
       " 'prediction__penalty': 'l2',\n",
       " 'prediction__random_state': None,\n",
       " 'prediction__tol': 0.0001,\n",
       " 'prediction__verbose': 0}"
      ]
     },
     "execution_count": 73,
     "metadata": {},
     "output_type": "execute_result"
    }
   ],
   "source": [
    "model.get_params()"
   ]
  },
  {
   "cell_type": "code",
   "execution_count": null,
   "id": "a3693f2a-bec2-46bc-9072-0c9e87131290",
   "metadata": {},
   "outputs": [],
   "source": []
  }
 ],
 "metadata": {
  "kernelspec": {
   "display_name": "Python 3 (ipykernel)",
   "language": "python",
   "name": "python3"
  },
  "language_info": {
   "codemirror_mode": {
    "name": "ipython",
    "version": 3
   },
   "file_extension": ".py",
   "mimetype": "text/x-python",
   "name": "python",
   "nbconvert_exporter": "python",
   "pygments_lexer": "ipython3",
   "version": "3.8.10"
  }
 },
 "nbformat": 4,
 "nbformat_minor": 5
}
